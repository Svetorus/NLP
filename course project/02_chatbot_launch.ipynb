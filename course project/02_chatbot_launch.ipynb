{
 "cells": [
  {
   "cell_type": "markdown",
   "metadata": {},
   "source": [
    "# <center>Курсовой проект<br>«Введение в обработку естественного языка»</center>"
   ]
  },
  {
   "cell_type": "markdown",
   "metadata": {},
   "source": [
    "<img src=\"img/scheme.png\"/>"
   ]
  },
  {
   "cell_type": "markdown",
   "metadata": {},
   "source": [
    "Логика работы чат-бота:\n",
    "- чат-боту в Telegram приходит сообщение;\n",
    "- Message Analyzer проверяет по своему вероятностному порогу, является ли оно отзывом;\n",
    "- если сообщение является отзывом, и его длина не меньше установленной:\n",
    "- - Sentiment Analyzer проверяет по вероятностным порогам, является ли отзыв положительным или отрицательным, в противном случае – нейтральным;\n",
    "- - в зависимости от этого берется случайный ответ из соответствующего спика;\n",
    "- если сообщение не является отзывом или отзыв слишком короткий, то по нему работает проект, настроенный в Dialogflow (Small-Talk, а также интент, включающий музыку с youtube)."
   ]
  },
  {
   "cell_type": "markdown",
   "metadata": {},
   "source": [
    "Чат-бот можно запустить с помощью скрипта, который работает с сохраненными и обученными объектами Message Analyzer и Sentiment Analyzer и каталогом *src*, куда вынесен весь необходимый инструментарий:"
   ]
  },
  {
   "cell_type": "code",
   "execution_count": null,
   "metadata": {},
   "outputs": [],
   "source": [
    "!chatbot.py"
   ]
  },
  {
   "cell_type": "markdown",
   "metadata": {},
   "source": [
    "## Скриншоты работы чат-бота:"
   ]
  },
  {
   "cell_type": "markdown",
   "metadata": {},
   "source": [
    "<img src=\"img/Screenshot_20200827-153454_Telegram.jpg\"/>\n",
    "<img src=\"img/Screenshot_20200827-153538_Telegram.jpg\"/>\n",
    "<img src=\"img/Screenshot_20200827-153441_Telegram.jpg\"/>"
   ]
  },
  {
   "cell_type": "markdown",
   "metadata": {},
   "source": [
    " "
   ]
  }
 ],
 "metadata": {
  "kernelspec": {
   "display_name": "Python 2",
   "language": "python",
   "name": "python2"
  },
  "language_info": {
   "codemirror_mode": {
    "name": "ipython",
    "version": 2
   },
   "file_extension": ".py",
   "mimetype": "text/x-python",
   "name": "python",
   "nbconvert_exporter": "python",
   "pygments_lexer": "ipython2",
   "version": "2.7.15"
  }
 },
 "nbformat": 4,
 "nbformat_minor": 2
}
