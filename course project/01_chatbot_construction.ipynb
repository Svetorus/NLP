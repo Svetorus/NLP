{
 "cells": [
  {
   "cell_type": "markdown",
   "metadata": {},
   "source": [
    "# <center>Курсовой проект<br>«Введение в обработку естественного языка»</center>"
   ]
  },
  {
   "cell_type": "markdown",
   "metadata": {},
   "source": [
    "**Задание**: обучить чат-бота в Telegram.\n",
    "\n",
    "Чат-бот будет иметь следующие функции:\n",
    " - 1) определение, является ли введенное сообщение отзывом на приложение и в случае, если является, определив тональность отзыва,  выдавать соответствующий ответ от команды разработчиков;\n",
    " - 2) включение по команде музыки с youtube;\n",
    " - 3) Small-Talk.\n",
    " \n",
    "1): предстоит обучить два классификатора:\n",
    " - Message Analyzer будет определять, является ли сообщение отзывом на приложение («Отзыв» или не «Отзыв»), \n",
    " - Sentiment Analyzer будет оценивать тональность отзыва (отзыв отрицательный, нейтральный или положительный ).\n",
    "\n",
    "2) и 3): реализация будет произведена с помощью Dialogflow.\n",
    "\n",
    "<img src=\"img/scheme.png\"/>"
   ]
  },
  {
   "cell_type": "code",
   "execution_count": 1,
   "metadata": {},
   "outputs": [],
   "source": [
    "import re\n",
    "import pandas as pd\n",
    "import numpy as np\n",
    "from glob import glob\n",
    "from tqdm import tqdm\n",
    "\n",
    "import warnings \n",
    "warnings.filterwarnings('ignore', category=Warning)"
   ]
  },
  {
   "cell_type": "markdown",
   "metadata": {},
   "source": [
    "# 1. Разработка классификаторов Message Analyzer и Sentiment Analyzer"
   ]
  },
  {
   "cell_type": "markdown",
   "metadata": {},
   "source": [
    "## 1.1. Сбор данных для обучения классификаторов"
   ]
  },
  {
   "cell_type": "markdown",
   "metadata": {},
   "source": [
    "В качестве отрицательных примеров для класса «Отзыв» соберем сообщения из переписок в мессенджере QIP. Они будут вполне релевантны для Small-Talk.\n",
    "\n",
    "Каждая переписка представляет собой текстовый файл достаточно простой структуры. Напишем функцию, которая считывает этот файл, убирает из него линии-разделители, оставляет только сообщения и заносит их в датафрейм – аккаунты и дата-время сообщения не требуются:"
   ]
  },
  {
   "cell_type": "code",
   "execution_count": 2,
   "metadata": {},
   "outputs": [],
   "source": [
    "LINE_RE = r'--------------------------------------[>|<]-'\n",
    "DATE_RE = r'\\([0-9]*:[0-9]*:[0-9]*\\s[0-9]*\\/[0-9]*\\/[0-9]*\\)'\n",
    "\n",
    "def log2df(log_file):\n",
    "\n",
    "    log_text = ''\n",
    "    with open(log_file, 'r') as f:\n",
    "        for line in f:\n",
    "            log_text += line\n",
    "    \n",
    "    log_list = re.split(LINE_RE, log_text)\n",
    "    \n",
    "    log_df = pd.DataFrame({'Content': log_list})\n",
    "    log_df = log_df[log_df['Content'] != '']\n",
    "\n",
    "    log_df[['User', 'Message']] = log_df['Content'].str.split(DATE_RE, n=1, expand=True)\n",
    "\n",
    "    log_df.drop(columns=['Content', 'User'], inplace=True)\n",
    "    log_df['Message'] = log_df['Message'].str.strip()\n",
    "    \n",
    "    return log_df"
   ]
  },
  {
   "cell_type": "markdown",
   "metadata": {},
   "source": [
    "Обрабатываем этой функцией все имеющиеся файлы переписок и объединяем результаты в единый датафрейм:"
   ]
  },
  {
   "cell_type": "code",
   "execution_count": 3,
   "metadata": {},
   "outputs": [
    {
     "name": "stderr",
     "output_type": "stream",
     "text": [
      "100%|████████████████████████████████████████| 202/202 [00:09<00:00, 20.45it/s]\n"
     ]
    }
   ],
   "source": [
    "logs = pd.DataFrame(columns=['Message'])\n",
    "for log_file in tqdm(glob('data/_qip/*.txt')):\n",
    "    logs = pd.concat([logs, log2df(log_file)], ignore_index=True)  \n",
    "    \n",
    "logs = logs.sample(frac=1., random_state=21).reset_index(drop=True)"
   ]
  },
  {
   "cell_type": "markdown",
   "metadata": {},
   "source": [
    "Собранные сообщения:"
   ]
  },
  {
   "cell_type": "code",
   "execution_count": 4,
   "metadata": {},
   "outputs": [
    {
     "data": {
      "text/html": [
       "<div>\n",
       "<style scoped>\n",
       "    .dataframe tbody tr th:only-of-type {\n",
       "        vertical-align: middle;\n",
       "    }\n",
       "\n",
       "    .dataframe tbody tr th {\n",
       "        vertical-align: top;\n",
       "    }\n",
       "\n",
       "    .dataframe thead th {\n",
       "        text-align: right;\n",
       "    }\n",
       "</style>\n",
       "<table border=\"1\" class=\"dataframe\">\n",
       "  <thead>\n",
       "    <tr style=\"text-align: right;\">\n",
       "      <th></th>\n",
       "      <th>Message</th>\n",
       "    </tr>\n",
       "  </thead>\n",
       "  <tbody>\n",
       "    <tr>\n",
       "      <th>0</th>\n",
       "      <td>ок, только я в Августе свалю...</td>\n",
       "    </tr>\n",
       "    <tr>\n",
       "      <th>1</th>\n",
       "      <td>*SCRATCH*я тожы</td>\n",
       "    </tr>\n",
       "    <tr>\n",
       "      <th>2</th>\n",
       "      <td>?</td>\n",
       "    </tr>\n",
       "    <tr>\n",
       "      <th>3</th>\n",
       "      <td>жаль</td>\n",
       "    </tr>\n",
       "    <tr>\n",
       "      <th>4</th>\n",
       "      <td>ок</td>\n",
       "    </tr>\n",
       "  </tbody>\n",
       "</table>\n",
       "</div>"
      ],
      "text/plain": [
       "                           Message\n",
       "0  ок, только я в Августе свалю...\n",
       "1                  *SCRATCH*я тожы\n",
       "2                                ?\n",
       "3                             жаль\n",
       "4                               ок"
      ]
     },
     "execution_count": 4,
     "metadata": {},
     "output_type": "execute_result"
    }
   ],
   "source": [
    "logs.head(n=5)"
   ]
  },
  {
   "cell_type": "markdown",
   "metadata": {},
   "source": [
    "Их количество:"
   ]
  },
  {
   "cell_type": "code",
   "execution_count": 5,
   "metadata": {},
   "outputs": [
    {
     "data": {
      "text/plain": [
       "19804"
      ]
     },
     "execution_count": 5,
     "metadata": {},
     "output_type": "execute_result"
    }
   ],
   "source": [
    "logs.shape[0]"
   ]
  },
  {
   "cell_type": "markdown",
   "metadata": {},
   "source": [
    "Позитивные примеры для класса «Отзыв» возьмем из непосредственно файла с отзывами на приложение:"
   ]
  },
  {
   "cell_type": "code",
   "execution_count": 6,
   "metadata": {},
   "outputs": [
    {
     "data": {
      "text/html": [
       "<div>\n",
       "<style scoped>\n",
       "    .dataframe tbody tr th:only-of-type {\n",
       "        vertical-align: middle;\n",
       "    }\n",
       "\n",
       "    .dataframe tbody tr th {\n",
       "        vertical-align: top;\n",
       "    }\n",
       "\n",
       "    .dataframe thead th {\n",
       "        text-align: right;\n",
       "    }\n",
       "</style>\n",
       "<table border=\"1\" class=\"dataframe\">\n",
       "  <thead>\n",
       "    <tr style=\"text-align: right;\">\n",
       "      <th></th>\n",
       "      <th>Rating</th>\n",
       "      <th>Message</th>\n",
       "      <th>Date</th>\n",
       "    </tr>\n",
       "  </thead>\n",
       "  <tbody>\n",
       "    <tr>\n",
       "      <th>0</th>\n",
       "      <td>5</td>\n",
       "      <td>It just works!</td>\n",
       "      <td>2017-08-14</td>\n",
       "    </tr>\n",
       "    <tr>\n",
       "      <th>1</th>\n",
       "      <td>4</td>\n",
       "      <td>В целом удобноное приложение...из минусов хотя...</td>\n",
       "      <td>2017-08-14</td>\n",
       "    </tr>\n",
       "    <tr>\n",
       "      <th>2</th>\n",
       "      <td>5</td>\n",
       "      <td>Отлично все</td>\n",
       "      <td>2017-08-14</td>\n",
       "    </tr>\n",
       "    <tr>\n",
       "      <th>3</th>\n",
       "      <td>5</td>\n",
       "      <td>Стал зависать на 1% работы антивируса. Дальше ...</td>\n",
       "      <td>2017-08-14</td>\n",
       "    </tr>\n",
       "    <tr>\n",
       "      <th>4</th>\n",
       "      <td>5</td>\n",
       "      <td>Очень удобно, работает быстро.</td>\n",
       "      <td>2017-08-14</td>\n",
       "    </tr>\n",
       "  </tbody>\n",
       "</table>\n",
       "</div>"
      ],
      "text/plain": [
       "   Rating                                            Message        Date\n",
       "0       5                                     It just works!  2017-08-14\n",
       "1       4  В целом удобноное приложение...из минусов хотя...  2017-08-14\n",
       "2       5                                        Отлично все  2017-08-14\n",
       "3       5  Стал зависать на 1% работы антивируса. Дальше ...  2017-08-14\n",
       "4       5                     Очень удобно, работает быстро.  2017-08-14"
      ]
     },
     "execution_count": 6,
     "metadata": {},
     "output_type": "execute_result"
    }
   ],
   "source": [
    "reviews = pd.read_excel('data/отзывы за лето.xls', names=['Rating', 'Message', 'Date'])\n",
    "reviews.head(n=5)"
   ]
  },
  {
   "cell_type": "markdown",
   "metadata": {},
   "source": [
    "Рейтинги приложения:"
   ]
  },
  {
   "cell_type": "code",
   "execution_count": 7,
   "metadata": {},
   "outputs": [
    {
     "data": {
      "text/plain": [
       "5    14586\n",
       "1     2276\n",
       "4     2138\n",
       "3      911\n",
       "2      748\n",
       "Name: Rating, dtype: int64"
      ]
     },
     "execution_count": 7,
     "metadata": {},
     "output_type": "execute_result"
    }
   ],
   "source": [
    "reviews['Rating'].value_counts()"
   ]
  },
  {
   "cell_type": "markdown",
   "metadata": {},
   "source": [
    "Исключим отзывы с рейтингом в 3 балла. Как положительные отзывы возьмем отзывы с рейтингом в 4 и 5 баллов, отрицательные – с рейтингом в 1 и 2 балла:"
   ]
  },
  {
   "cell_type": "code",
   "execution_count": 8,
   "metadata": {},
   "outputs": [],
   "source": [
    "reviews = reviews[reviews['Rating'] != 3]\n",
    "reviews['target'] = reviews['Rating'] > 3\n",
    "reviews['target'] = reviews['target'].astype(np.uint8)"
   ]
  },
  {
   "cell_type": "markdown",
   "metadata": {},
   "source": [
    "Количество отзывов – сопоставимо с количеством сообщений из переписок:"
   ]
  },
  {
   "cell_type": "code",
   "execution_count": 9,
   "metadata": {},
   "outputs": [
    {
     "data": {
      "text/plain": [
       "19748"
      ]
     },
     "execution_count": 9,
     "metadata": {},
     "output_type": "execute_result"
    }
   ],
   "source": [
    "reviews.shape[0]"
   ]
  },
  {
   "cell_type": "markdown",
   "metadata": {},
   "source": [
    "Объединим сообщения и отзывы в один датафрейм с меткой, что из них является отзывом:"
   ]
  },
  {
   "cell_type": "code",
   "execution_count": 10,
   "metadata": {},
   "outputs": [
    {
     "data": {
      "text/html": [
       "<div>\n",
       "<style scoped>\n",
       "    .dataframe tbody tr th:only-of-type {\n",
       "        vertical-align: middle;\n",
       "    }\n",
       "\n",
       "    .dataframe tbody tr th {\n",
       "        vertical-align: top;\n",
       "    }\n",
       "\n",
       "    .dataframe thead th {\n",
       "        text-align: right;\n",
       "    }\n",
       "</style>\n",
       "<table border=\"1\" class=\"dataframe\">\n",
       "  <thead>\n",
       "    <tr style=\"text-align: right;\">\n",
       "      <th></th>\n",
       "      <th>Message</th>\n",
       "      <th>is_review</th>\n",
       "    </tr>\n",
       "  </thead>\n",
       "  <tbody>\n",
       "    <tr>\n",
       "      <th>0</th>\n",
       "      <td>ок, только я в Августе свалю...</td>\n",
       "      <td>0</td>\n",
       "    </tr>\n",
       "    <tr>\n",
       "      <th>1</th>\n",
       "      <td>*SCRATCH*я тожы</td>\n",
       "      <td>0</td>\n",
       "    </tr>\n",
       "    <tr>\n",
       "      <th>2</th>\n",
       "      <td>?</td>\n",
       "      <td>0</td>\n",
       "    </tr>\n",
       "    <tr>\n",
       "      <th>3</th>\n",
       "      <td>жаль</td>\n",
       "      <td>0</td>\n",
       "    </tr>\n",
       "    <tr>\n",
       "      <th>4</th>\n",
       "      <td>ок</td>\n",
       "      <td>0</td>\n",
       "    </tr>\n",
       "  </tbody>\n",
       "</table>\n",
       "</div>"
      ],
      "text/plain": [
       "                           Message  is_review\n",
       "0  ок, только я в Августе свалю...          0\n",
       "1                  *SCRATCH*я тожы          0\n",
       "2                                ?          0\n",
       "3                             жаль          0\n",
       "4                               ок          0"
      ]
     },
     "execution_count": 10,
     "metadata": {},
     "output_type": "execute_result"
    }
   ],
   "source": [
    "logs_and_reviews = logs.copy()\n",
    "logs_and_reviews.columns=['Message']\n",
    "logs_and_reviews['is_review'] = 0\n",
    "logs_and_reviews.head()"
   ]
  },
  {
   "cell_type": "code",
   "execution_count": 11,
   "metadata": {},
   "outputs": [
    {
     "data": {
      "text/html": [
       "<div>\n",
       "<style scoped>\n",
       "    .dataframe tbody tr th:only-of-type {\n",
       "        vertical-align: middle;\n",
       "    }\n",
       "\n",
       "    .dataframe tbody tr th {\n",
       "        vertical-align: top;\n",
       "    }\n",
       "\n",
       "    .dataframe thead th {\n",
       "        text-align: right;\n",
       "    }\n",
       "</style>\n",
       "<table border=\"1\" class=\"dataframe\">\n",
       "  <thead>\n",
       "    <tr style=\"text-align: right;\">\n",
       "      <th></th>\n",
       "      <th>Message</th>\n",
       "      <th>is_review</th>\n",
       "    </tr>\n",
       "  </thead>\n",
       "  <tbody>\n",
       "    <tr>\n",
       "      <th>0</th>\n",
       "      <td>ок, только я в Августе свалю...</td>\n",
       "      <td>0</td>\n",
       "    </tr>\n",
       "    <tr>\n",
       "      <th>1</th>\n",
       "      <td>*SCRATCH*я тожы</td>\n",
       "      <td>0</td>\n",
       "    </tr>\n",
       "    <tr>\n",
       "      <th>2</th>\n",
       "      <td>?</td>\n",
       "      <td>0</td>\n",
       "    </tr>\n",
       "    <tr>\n",
       "      <th>3</th>\n",
       "      <td>жаль</td>\n",
       "      <td>0</td>\n",
       "    </tr>\n",
       "    <tr>\n",
       "      <th>4</th>\n",
       "      <td>ок</td>\n",
       "      <td>0</td>\n",
       "    </tr>\n",
       "  </tbody>\n",
       "</table>\n",
       "</div>"
      ],
      "text/plain": [
       "                           Message  is_review\n",
       "0  ок, только я в Августе свалю...          0\n",
       "1                  *SCRATCH*я тожы          0\n",
       "2                                ?          0\n",
       "3                             жаль          0\n",
       "4                               ок          0"
      ]
     },
     "execution_count": 11,
     "metadata": {},
     "output_type": "execute_result"
    }
   ],
   "source": [
    "logs_and_reviews = pd.concat([logs_and_reviews, reviews[['Message']]],\n",
    "                             sort=False, ignore_index=True)\n",
    "logs_and_reviews['is_review'] = logs_and_reviews['is_review'].fillna(1).astype(np.uint8)\n",
    "logs_and_reviews.head(5)"
   ]
  },
  {
   "cell_type": "markdown",
   "metadata": {},
   "source": [
    "## 1.2. Обучение классификаторов"
   ]
  },
  {
   "cell_type": "code",
   "execution_count": 12,
   "metadata": {},
   "outputs": [],
   "source": [
    "import nltk\n",
    "from pymorphy2 import MorphAnalyzer"
   ]
  },
  {
   "cell_type": "markdown",
   "metadata": {},
   "source": [
    "Зададим базовое множество стоп-слов – из предлогов, соединительных союзов и частиц:"
   ]
  },
  {
   "cell_type": "code",
   "execution_count": 13,
   "metadata": {},
   "outputs": [],
   "source": [
    "morpher = MorphAnalyzer()\n",
    "\n",
    "basic_stop = {'без', 'безо', 'близ', 'в', 'во', 'вместо', 'вне',\n",
    "        'для', 'до', 'за', 'из', 'изо', 'из-за', 'из-под', \n",
    "        'к', 'ко', 'кроме', 'между', 'меж', 'на', 'над', 'надо',\n",
    "        'о', 'об', 'обо', 'от', 'ото', 'перед', 'передо', 'пред', 'предо',\n",
    "        'по', 'под', 'подо', 'при', 'про', 'ради', 'с', 'со',\n",
    "        'сквозь', 'среди', 'у', 'через', 'чрез', 'и', 'или', 'же'}"
   ]
  },
  {
   "cell_type": "markdown",
   "metadata": {},
   "source": [
    "Функции для нормализации слов и предобработки текста:"
   ]
  },
  {
   "cell_type": "code",
   "execution_count": 14,
   "metadata": {},
   "outputs": [],
   "source": [
    "def normalize_word(word):\n",
    "    return morpher.parse(word)[0].normal_form\n",
    "\n",
    "def preprocess_text(text):\n",
    "    text = str(text).lower()\n",
    "    text = re.sub(r'[*.,\\n\\t]', ' ', text)\n",
    "    text_list = nltk.word_tokenize(str(text))\n",
    "    text_list = [normalize_word(word) \\\n",
    "                 for word in text_list if word not in basic_stop]\n",
    "    text = ' '.join(text_list)\n",
    "#    text = text.replace(' не ', ' не не')   \n",
    "    return text"
   ]
  },
  {
   "cell_type": "markdown",
   "metadata": {},
   "source": [
    "Напишем класс для объектов Message Analyzer и Sentiment Analyzer.\n",
    "\n",
    "При создании он требует функцию предобработки текста, векторайзер для векторизации текста и классификатор. После обучения в качестве предсказания он будет выдавать вероятность принадлежности сообщения к классу 1."
   ]
  },
  {
   "cell_type": "code",
   "execution_count": 15,
   "metadata": {},
   "outputs": [],
   "source": [
    "from sklearn.feature_extraction.text import TfidfVectorizer, CountVectorizer\n",
    "from sklearn.linear_model import LogisticRegression\n",
    "from sklearn.metrics import accuracy_score\n",
    "from sklearn.metrics import classification_report, f1_score, precision_score, recall_score\n",
    "from sklearn.model_selection import train_test_split"
   ]
  },
  {
   "cell_type": "code",
   "execution_count": 16,
   "metadata": {},
   "outputs": [],
   "source": [
    "class TextClassifier(object):\n",
    "    \n",
    "    def __init__(self, preprocess_text, vectorizer, classifier):\n",
    "        self.preprocess_text = np.vectorize(preprocess_text)\n",
    "        self.vectorizer = vectorizer\n",
    "        self.classifier = classifier\n",
    "        \n",
    "    def fit(self, X, y):\n",
    "        \n",
    "        print('Text preprocessing...', end=' ')\n",
    "        X_preprocessed = self.preprocess_text(X)\n",
    "        print('Done.')\n",
    "        \n",
    "        print('Text vectorizing...', end=' ')\n",
    "        X_vectorized = self.vectorizer.fit_transform(X_preprocessed)\n",
    "        print('Done.')\n",
    "        \n",
    "        print('Fitting classifier...', end=' ')\n",
    "        self.classifier.fit(X_vectorized, y)\n",
    "        print('Done.')\n",
    "        \n",
    "        return None\n",
    "    \n",
    "    def predict(self, X, y=None):\n",
    "        \n",
    "        X_preprocessed = self.preprocess_text(X)\n",
    "        X_vectorized = self.vectorizer.transform(X_preprocessed)        \n",
    "        y_proba = self.classifier.predict_proba(X_vectorized)\n",
    "        y_proba = y_proba[:, 1]\n",
    "        \n",
    "        return y_proba\n"
   ]
  },
  {
   "cell_type": "markdown",
   "metadata": {},
   "source": [
    "Функция для оценки качества вероятностного предсказания на тестовой выборке:"
   ]
  },
  {
   "cell_type": "code",
   "execution_count": 17,
   "metadata": {},
   "outputs": [],
   "source": [
    "def get_classification_report(y_test_true, y_test_pred):\n",
    "    print(classification_report(y_test_true, y_test_pred))\n",
    "    print('CONFUSION MATRIX\\n')\n",
    "    crosstab = pd.crosstab(y_test_true, y_test_pred)\n",
    "    crosstab.index = pd.Index([0, 1], name='true')\n",
    "    crosstab.columns = pd.Index([0, 1], name='pred')\n",
    "    print(crosstab)"
   ]
  },
  {
   "cell_type": "markdown",
   "metadata": {},
   "source": [
    "**Обучение Message Analyzer**\n",
    "\n",
    "Разобьем объединенный датафрейм с сообщениями и отзывами на обучающую и тестовую выборки:"
   ]
  },
  {
   "cell_type": "code",
   "execution_count": 18,
   "metadata": {},
   "outputs": [],
   "source": [
    "X = logs_and_reviews['Message']\n",
    "y = logs_and_reviews['is_review']\n",
    "\n",
    "X_train, X_test, y_train, y_test = train_test_split(\n",
    "    X, y,\n",
    "    test_size=0.25,\n",
    "    random_state=42,\n",
    "    stratify=y\n",
    ")"
   ]
  },
  {
   "cell_type": "markdown",
   "metadata": {},
   "source": [
    "В качестве векторайзера зададим CountVectorizer, а в качестве классификатора – логистическую регрессию:"
   ]
  },
  {
   "cell_type": "code",
   "execution_count": 19,
   "metadata": {},
   "outputs": [],
   "source": [
    "message_analyzer = TextClassifier(\n",
    "    preprocess_text=preprocess_text,\n",
    "    vectorizer = CountVectorizer(analyzer='word'),\n",
    "    classifier = LogisticRegression(\n",
    "        C=10.,\n",
    "        n_jobs=-1,\n",
    "        random_state=42,\n",
    "        )\n",
    ")"
   ]
  },
  {
   "cell_type": "markdown",
   "metadata": {},
   "source": [
    "Процесс обучения:"
   ]
  },
  {
   "cell_type": "code",
   "execution_count": 20,
   "metadata": {},
   "outputs": [
    {
     "name": "stdout",
     "output_type": "stream",
     "text": [
      "Preprocessing texts... Done.\n",
      "Vectorizing texts... Done.\n",
      "Fitting classifier... Done.\n"
     ]
    }
   ],
   "source": [
    "message_analyzer.fit(X_train, y_train)"
   ]
  },
  {
   "cell_type": "markdown",
   "metadata": {},
   "source": [
    "Проверка качества Message Analyzer на тестовой выборке:"
   ]
  },
  {
   "cell_type": "code",
   "execution_count": 21,
   "metadata": {},
   "outputs": [
    {
     "name": "stdout",
     "output_type": "stream",
     "text": [
      "              precision    recall  f1-score   support\n",
      "\n",
      "           0       0.94      0.96      0.95      4951\n",
      "           1       0.96      0.94      0.95      4937\n",
      "\n",
      "    accuracy                           0.95      9888\n",
      "   macro avg       0.95      0.95      0.95      9888\n",
      "weighted avg       0.95      0.95      0.95      9888\n",
      "\n",
      "CONFUSION MATRIX\n",
      "\n",
      "pred     0     1\n",
      "true            \n",
      "0     4756   195\n",
      "1      318  4619\n"
     ]
    }
   ],
   "source": [
    "y_proba = message_analyzer.predict(X_test)\n",
    "get_classification_report(y_test, y_proba > 0.5)"
   ]
  },
  {
   "cell_type": "markdown",
   "metadata": {},
   "source": [
    "Проверим, как Message Analyzer классифицирует сообщения:"
   ]
  },
  {
   "cell_type": "code",
   "execution_count": 22,
   "metadata": {},
   "outputs": [
    {
     "name": "stdout",
     "output_type": "stream",
     "text": [
      "\"Дарт Вейдер\": Chat\n",
      "\"Приложение агонь\": Review\n"
     ]
    }
   ],
   "source": [
    "for message in ('Дарт Вейдер', 'Приложение агонь'):\n",
    "    prediction = message_analyzer.predict([message])\n",
    "    prediction = prediction[0]\n",
    "\n",
    "    if prediction >= 0.5:\n",
    "        print(f'\"{message}\": Review')\n",
    "    else:\n",
    "        print(f'\"{message}\": Chat')"
   ]
  },
  {
   "cell_type": "markdown",
   "metadata": {},
   "source": [
    "**Обучение Sentiment Analyzer**\n",
    "\n",
    "Разобьем датафрейм с отзывами на обучающую и тестовую выборки:"
   ]
  },
  {
   "cell_type": "code",
   "execution_count": 23,
   "metadata": {},
   "outputs": [],
   "source": [
    "X = reviews['Message']\n",
    "y = reviews['target']\n",
    "\n",
    "X_train, X_test, y_train, y_test = train_test_split(\n",
    "    X, y,\n",
    "    test_size=0.25,\n",
    "    random_state=42,\n",
    "    stratify=y\n",
    ")"
   ]
  },
  {
   "cell_type": "markdown",
   "metadata": {},
   "source": [
    "Поскольку это стадия анализа тональности, зададим расширенное множество стоп-слов. Исключим из него слова из базового множества, частицу «не» и др. В дальнейшем для улучшения качества анализа в него таким же образом можно будет добавлять или убирать новые слова."
   ]
  },
  {
   "cell_type": "code",
   "execution_count": 24,
   "metadata": {},
   "outputs": [],
   "source": [
    "manual_stop = nltk.corpus.stopwords.words('russian')\n",
    "manual_stop = set([normalize_word(word) for word in manual_stop])\n",
    "manual_stop -= basic_stop\n",
    "manual_stop -= {'не', 'хорошо', 'хороший'}"
   ]
  },
  {
   "cell_type": "markdown",
   "metadata": {},
   "source": [
    "В качестве векторайзера зададим CountVectorizer (в который передадим расширенное множество стоп-слов) с возможностью обучения также на биграммах и триграммах, в качестве классификатора – снова логистическую регрессию:"
   ]
  },
  {
   "cell_type": "code",
   "execution_count": 25,
   "metadata": {},
   "outputs": [],
   "source": [
    "sentiment_analyzer = TextClassifier(\n",
    "    preprocess_text=preprocess_text,\n",
    "    vectorizer = CountVectorizer(\n",
    "        analyzer='word',\n",
    "        ngram_range=(1, 3),\n",
    "        stop_words=manual_stop,\n",
    "        ),\n",
    "    classifier = LogisticRegression(\n",
    "        class_weight='balanced',\n",
    "        n_jobs=-1,\n",
    "        random_state=42,\n",
    "        )\n",
    ")"
   ]
  },
  {
   "cell_type": "markdown",
   "metadata": {},
   "source": [
    "Процесс обучения:"
   ]
  },
  {
   "cell_type": "code",
   "execution_count": 26,
   "metadata": {},
   "outputs": [
    {
     "name": "stdout",
     "output_type": "stream",
     "text": [
      "Preprocessing texts... Done.\n",
      "Vectorizing texts... Done.\n",
      "Fitting classifier... Done.\n"
     ]
    }
   ],
   "source": [
    "sentiment_analyzer.fit(X_train, y_train)"
   ]
  },
  {
   "cell_type": "markdown",
   "metadata": {},
   "source": [
    "Проверка качества Sentiment Analyzer на тестовой выборке:"
   ]
  },
  {
   "cell_type": "code",
   "execution_count": 27,
   "metadata": {},
   "outputs": [
    {
     "name": "stdout",
     "output_type": "stream",
     "text": [
      "              precision    recall  f1-score   support\n",
      "\n",
      "           0       0.74      0.83      0.78       756\n",
      "           1       0.97      0.95      0.96      4181\n",
      "\n",
      "    accuracy                           0.93      4937\n",
      "   macro avg       0.86      0.89      0.87      4937\n",
      "weighted avg       0.93      0.93      0.93      4937\n",
      "\n",
      "CONFUSION MATRIX\n",
      "\n",
      "pred    0     1\n",
      "true           \n",
      "0     628   128\n",
      "1     218  3963\n"
     ]
    }
   ],
   "source": [
    "y_proba = sentiment_analyzer.predict(X_test)\n",
    "get_classification_report(y_test, y_proba > 0.5)"
   ]
  },
  {
   "cell_type": "markdown",
   "metadata": {},
   "source": [
    "Проверим, как Sentiment Analyzer классифицирует положительный и отрицательный отзыв:"
   ]
  },
  {
   "cell_type": "code",
   "execution_count": 28,
   "metadata": {},
   "outputs": [],
   "source": [
    "positive_review = 'Приложение замечательное, оплата коммунальных бумажек просто песня, \\\n",
    "    через QR код все само вносится, единственное что надо руками показания счетчика \\\n",
    "    забить и все! Только жми далее и подтвердить. На все платежки пару минут потратил. \\\n",
    "    Я только из за мобильного приложения перешел в сберыч из ВТБ. Там просто ад, вообще \\\n",
    "    ничего не работает нормально в их мобильном приложении. Короче, браво Сбербанк, надеюсь \\\n",
    "    и дальше ваша программа будет работать как швейцарские часы'\n",
    "\n",
    "negative_review = 'Обновления 11.2.х превращает телефон в горячий кирпич. \\\n",
    "    Работать невозможно, постоянные тормоза. Ни позвонить, ни смс отправить. \\\n",
    "    В лучших традициях каспера. Сделайте возможность отключения антивируса \\\n",
    "    в настройках, кому он не нужен. Либо добавьте возможность прерывания фоновой \\\n",
    "    проверки на вирусы. Не все с Нот20 ультра ходят, у многих средненькие аппрараты, \\\n",
    "    которые приложение \"кладет на лопатки\". В версии 11.0 таких тормозов не было, \\\n",
    "    началось с обновления 11.2.'\n"
   ]
  },
  {
   "cell_type": "code",
   "execution_count": 29,
   "metadata": {},
   "outputs": [
    {
     "data": {
      "text/plain": [
       "array([0.98413778])"
      ]
     },
     "execution_count": 29,
     "metadata": {},
     "output_type": "execute_result"
    }
   ],
   "source": [
    "sentiment_analyzer.predict([positive_review])"
   ]
  },
  {
   "cell_type": "code",
   "execution_count": 30,
   "metadata": {},
   "outputs": [
    {
     "data": {
      "text/plain": [
       "array([3.98289317e-05])"
      ]
     },
     "execution_count": 30,
     "metadata": {},
     "output_type": "execute_result"
    }
   ],
   "source": [
    "sentiment_analyzer.predict([negative_review])"
   ]
  },
  {
   "cell_type": "markdown",
   "metadata": {},
   "source": [
    "Отзывы классифицированы корректно.\n",
    "\n",
    "Сохраним объекты с помощью pickle для того, чтобы ими можно было воспользоваться далее:"
   ]
  },
  {
   "cell_type": "code",
   "execution_count": 33,
   "metadata": {},
   "outputs": [],
   "source": [
    "import pickle\n",
    "\n",
    "with open('message_analyzer.pickle', 'wb') as f:\n",
    "    pickle.dump(message_analyzer, f)\n",
    "\n",
    "with open('sentiment_analyzer.pickle', 'wb') as f:\n",
    "    pickle.dump(sentiment_analyzer, f)"
   ]
  },
  {
   "cell_type": "markdown",
   "metadata": {},
   "source": [
    "# 2. Telegram и Dialogflow"
   ]
  },
  {
   "cell_type": "code",
   "execution_count": 31,
   "metadata": {},
   "outputs": [],
   "source": [
    "import os\n",
    "from telegram.ext import Updater, CommandHandler, MessageHandler, Filters\n",
    "import dialogflow"
   ]
  },
  {
   "cell_type": "markdown",
   "metadata": {},
   "source": [
    "Зададим необходимые настройки для работы Telegram и Dialogflow, а также пороги для принятия решений по вероятностным предсказаниям от Message Analyzer и Sentiment Analyzer.\n",
    "<br>Кроме того, зададим списки ответов на отрицательные, нейтральные и негативные отзывы:"
   ]
  },
  {
   "cell_type": "code",
   "execution_count": 32,
   "metadata": {},
   "outputs": [],
   "source": [
    "TOKEN = '1372658763:AAEFXhA4bjsnZLXC9ewnuDUW3KvxPEexuyM'\n",
    "updater = Updater(TOKEN, use_context=False) # Токен API к Telegram\n",
    "dispatcher = updater.dispatcher\n",
    "\n",
    "os.environ['GOOGLE_APPLICATION_CREDENTIALS'] = 'vnnlp-bot-kpwr-cace54ccce30.json' # скачанный JSON\n",
    "\n",
    "DIALOGFLOW_PROJECT_ID = 'vnnlp-bot-kpwr' # PROJECT ID из DialogFlow \n",
    "DIALOGFLOW_LANGUAGE_CODE = 'ru' # язык\n",
    "SESSION_ID = 'VNNLP_bot'  # ID бота из телеграма\n",
    "\n",
    "MIN_REVIEW_LENGTH = 25\n",
    "IS_REVIEW_TRHESHOLD = 0.5\n",
    "POSITIVE_THRESHOLD = 0.75\n",
    "NEGATIVE_THRESHOLD = 0.25\n",
    "\n",
    "responces_to_positives = [\n",
    "    'Благодарим за отзыв! Нам очень приятно получать хорошие слова от наших пользователей.',\n",
    "]\n",
    "\n",
    "responces_to_negatives = [\n",
    "    'Спасибо за отзыв! Свяжитесь с нами, постараемся вместе разобраться с этой проблемой.',\n",
    "]\n",
    "\n",
    "responces_to_neutrals = [\n",
    "    'Спасибо за отзыв! Если есть время, напишите, пожалуйста, подробнее.',\n",
    "]"
   ]
  },
  {
   "cell_type": "markdown",
   "metadata": {},
   "source": [
    "Логика работы чат-бота:\n",
    "- чат-боту в Telegram приходит сообщение;\n",
    "- Message Analyzer проверяет по своему вероятностному порогу, является ли оно отзывом;\n",
    "- если сообщение является отзывом, и его длина не меньше установленной:\n",
    "- - Sentiment Analyzer проверяет по вероятностным порогам, является ли отзыв положительным или отрицательным, в противном случае – нейтральным;\n",
    "- - в зависимости от этого берется случайный ответ из соответствующего спика;\n",
    "- если сообщение не является отзывом или отзыв слишком короткий, то по нему работает проект, настроенный в Dialogflow (Small-Talk, а также интент, включающий музыку с youtube).\n"
   ]
  },
  {
   "cell_type": "code",
   "execution_count": 34,
   "metadata": {},
   "outputs": [],
   "source": [
    "def startCommand(bot, update):\n",
    "    bot.send_message(chat_id=update.message.chat_id, text='Привет!')\n",
    "\n",
    "def textMessage(bot, update):\n",
    "    \n",
    "    message = update.message.text\n",
    "    prediction = message_analyzer.predict([message])\n",
    "    prediction = prediction[0]\n",
    "    is_review = prediction >= IS_REVIEW_TRHESHOLD\n",
    "\n",
    "    if is_review and len(message) >= MIN_REVIEW_LENGTH:\n",
    "        \n",
    "        prediction = sentiment_analyzer.predict([message])\n",
    "        prediction = prediction[0]\n",
    "        \n",
    "        if prediction >= POSITIVE_THRESHOLD:\n",
    "            text = np.random.choice(responces_to_positives)\n",
    "        elif prediction <= NEGATIVE_THRESHOLD:\n",
    "            text = np.random.choice(responces_to_negatives)\n",
    "        else:\n",
    "            text = np.random.choice(responces_to_neutrals)\n",
    "            \n",
    "        text = f'{text} \\nС уважением, команда бота.'\n",
    "\n",
    "    else:\n",
    "        session_client = dialogflow.SessionsClient()\n",
    "        session = session_client.session_path(DIALOGFLOW_PROJECT_ID, SESSION_ID)\n",
    "        text_input = dialogflow.types.TextInput(text=update.message.text,\n",
    "                                                language_code=DIALOGFLOW_LANGUAGE_CODE)\n",
    "        query_input = dialogflow.types.QueryInput(text=text_input)\n",
    "        try:\n",
    "            response = session_client.detect_intent(session=session, query_input=query_input)\n",
    "        except InvalidArgument:\n",
    "             raise\n",
    "\n",
    "        text = response.query_result.fulfillment_text\n",
    "        if not text:\n",
    "            text = 'Что?'\n",
    "    \n",
    "    bot.send_message(chat_id=update.message.chat_id,\n",
    "                     text=text)    \n"
   ]
  },
  {
   "cell_type": "markdown",
   "metadata": {},
   "source": [
    "Запуск чат-бота:"
   ]
  },
  {
   "cell_type": "code",
   "execution_count": null,
   "metadata": {},
   "outputs": [],
   "source": [
    "# Хендлеры\n",
    "start_command_handler = CommandHandler('start', startCommand)\n",
    "text_message_handler = MessageHandler(Filters.text, textMessage)\n",
    "# Добавляем хендлеры в диспетчер\n",
    "dispatcher.add_handler(start_command_handler)\n",
    "dispatcher.add_handler(text_message_handler)\n",
    "# Начинаем поиск обновлений\n",
    "updater.start_polling(clean=True)\n",
    "# Останавливаем бота, если были нажаты Ctrl + C\n",
    "updater.idle()"
   ]
  }
 ],
 "metadata": {
  "kernelspec": {
   "display_name": "Python 2",
   "language": "python",
   "name": "python2"
  },
  "language_info": {
   "codemirror_mode": {
    "name": "ipython",
    "version": 2
   },
   "file_extension": ".py",
   "mimetype": "text/x-python",
   "name": "python",
   "nbconvert_exporter": "python",
   "pygments_lexer": "ipython2",
   "version": "2.7.15"
  }
 },
 "nbformat": 4,
 "nbformat_minor": 2
}
