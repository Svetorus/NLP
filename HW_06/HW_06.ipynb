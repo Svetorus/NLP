{
  "nbformat": 4,
  "nbformat_minor": 0,
  "metadata": {
    "colab": {
      "name": "HW_06.ipynb",
      "provenance": [],
      "collapsed_sections": [],
      "toc_visible": true
    },
    "kernelspec": {
      "display_name": "Python 3",
      "language": "python",
      "name": "python3"
    },
    "language_info": {
      "codemirror_mode": {
        "name": "ipython",
        "version": 3
      },
      "file_extension": ".py",
      "mimetype": "text/x-python",
      "name": "python",
      "nbconvert_exporter": "python",
      "pygments_lexer": "ipython3",
      "version": "3.7.3"
    }
  },
  "cells": [
    {
      "cell_type": "markdown",
      "metadata": {
        "colab_type": "text",
        "id": "FQ5uhAuW9cj6"
      },
      "source": [
        "Провести сравнение RNN, LSTM, GRU на датасете отзывов (из предыдущих занятий/материалов)"
      ]
    },
    {
      "cell_type": "code",
      "metadata": {
        "colab_type": "code",
        "id": "rwLYYcS19cj8",
        "colab": {}
      },
      "source": [
        "import numpy as np\n",
        "import pandas as pd\n",
        "from tqdm import tqdm\n",
        "import matplotlib.pyplot as plt\n",
        "\n",
        "%matplotlib inline\n",
        "\n",
        "import warnings \n",
        "warnings.filterwarnings(\"ignore\", category=Warning)"
      ],
      "execution_count": null,
      "outputs": []
    },
    {
      "cell_type": "markdown",
      "metadata": {
        "colab_type": "text",
        "id": "wtPUA3Gs9ckD"
      },
      "source": [
        "## 0. Загрузка и обзор данных"
      ]
    },
    {
      "cell_type": "code",
      "metadata": {
        "colab_type": "code",
        "id": "mjDvgXsN9ckE",
        "colab": {
          "base_uri": "https://localhost:8080/",
          "height": 204
        },
        "outputId": "0a340bd8-f444-4a0d-f594-1461d6534b68"
      },
      "source": [
        "data = pd.read_excel(\"отзывы за лето.xls\")\n",
        "data.head()"
      ],
      "execution_count": null,
      "outputs": [
        {
          "output_type": "execute_result",
          "data": {
            "text/html": [
              "<div>\n",
              "<style scoped>\n",
              "    .dataframe tbody tr th:only-of-type {\n",
              "        vertical-align: middle;\n",
              "    }\n",
              "\n",
              "    .dataframe tbody tr th {\n",
              "        vertical-align: top;\n",
              "    }\n",
              "\n",
              "    .dataframe thead th {\n",
              "        text-align: right;\n",
              "    }\n",
              "</style>\n",
              "<table border=\"1\" class=\"dataframe\">\n",
              "  <thead>\n",
              "    <tr style=\"text-align: right;\">\n",
              "      <th></th>\n",
              "      <th>Rating</th>\n",
              "      <th>Content</th>\n",
              "      <th>Date</th>\n",
              "    </tr>\n",
              "  </thead>\n",
              "  <tbody>\n",
              "    <tr>\n",
              "      <th>0</th>\n",
              "      <td>5</td>\n",
              "      <td>It just works!</td>\n",
              "      <td>2017-08-14</td>\n",
              "    </tr>\n",
              "    <tr>\n",
              "      <th>1</th>\n",
              "      <td>4</td>\n",
              "      <td>В целом удобноное приложение...из минусов хотя...</td>\n",
              "      <td>2017-08-14</td>\n",
              "    </tr>\n",
              "    <tr>\n",
              "      <th>2</th>\n",
              "      <td>5</td>\n",
              "      <td>Отлично все</td>\n",
              "      <td>2017-08-14</td>\n",
              "    </tr>\n",
              "    <tr>\n",
              "      <th>3</th>\n",
              "      <td>5</td>\n",
              "      <td>Стал зависать на 1% работы антивируса. Дальше ...</td>\n",
              "      <td>2017-08-14</td>\n",
              "    </tr>\n",
              "    <tr>\n",
              "      <th>4</th>\n",
              "      <td>5</td>\n",
              "      <td>Очень удобно, работает быстро.</td>\n",
              "      <td>2017-08-14</td>\n",
              "    </tr>\n",
              "  </tbody>\n",
              "</table>\n",
              "</div>"
            ],
            "text/plain": [
              "   Rating                                            Content        Date\n",
              "0       5                                     It just works!  2017-08-14\n",
              "1       4  В целом удобноное приложение...из минусов хотя...  2017-08-14\n",
              "2       5                                        Отлично все  2017-08-14\n",
              "3       5  Стал зависать на 1% работы антивируса. Дальше ...  2017-08-14\n",
              "4       5                     Очень удобно, работает быстро.  2017-08-14"
            ]
          },
          "metadata": {
            "tags": []
          },
          "execution_count": 2
        }
      ]
    },
    {
      "cell_type": "code",
      "metadata": {
        "colab_type": "code",
        "id": "48q96sYD9ckL",
        "colab": {
          "base_uri": "https://localhost:8080/",
          "height": 119
        },
        "outputId": "186f8d04-d8b6-4a42-d829-4d6e3160ee33"
      },
      "source": [
        "data['Rating'].value_counts()"
      ],
      "execution_count": null,
      "outputs": [
        {
          "output_type": "execute_result",
          "data": {
            "text/plain": [
              "5    14586\n",
              "1     2276\n",
              "4     2138\n",
              "3      911\n",
              "2      748\n",
              "Name: Rating, dtype: int64"
            ]
          },
          "metadata": {
            "tags": []
          },
          "execution_count": 3
        }
      ]
    },
    {
      "cell_type": "code",
      "metadata": {
        "colab_type": "code",
        "id": "RYifcm_M9ckc",
        "colab": {}
      },
      "source": [
        "data = data[data['Rating'] != 3]\n",
        "data['target'] = data['Rating'] > 3\n",
        "data['target'] = data['target'].astype(int)"
      ],
      "execution_count": null,
      "outputs": []
    },
    {
      "cell_type": "markdown",
      "metadata": {
        "colab_type": "text",
        "id": "QREkm8H79ck3"
      },
      "source": [
        "## 1. Обработка текстов"
      ]
    },
    {
      "cell_type": "code",
      "metadata": {
        "colab_type": "code",
        "id": "YJ0BYR5E9ck5",
        "colab": {}
      },
      "source": [
        "import nltk\n",
        "from nltk.tokenize import word_tokenize\n",
        "\n",
        "from pymorphy2 import MorphAnalyzer"
      ],
      "execution_count": null,
      "outputs": []
    },
    {
      "cell_type": "markdown",
      "metadata": {
        "colab_type": "text",
        "id": "D2AiaO-79ck-"
      },
      "source": [
        "Ограничимся минимальной очисткой текстов - только от точек, запятых и предлогов:"
      ]
    },
    {
      "cell_type": "code",
      "metadata": {
        "colab_type": "code",
        "id": "HbK-VAq99ck_",
        "colab": {}
      },
      "source": [
        "punctuation = r'[,.]'\n",
        "morpher = MorphAnalyzer()\n",
        "\n",
        "stop = {'без', 'безо', 'близ', 'в', 'во', 'вместо', 'вне',\n",
        "        'для', 'до', 'за', 'из', 'изо', 'из-за', 'из-под', \n",
        "        'к', 'ко', 'кроме', 'между', 'меж', 'на', 'над', 'надо',\n",
        "        'о', 'об', 'обо', 'от', 'ото', 'перед', 'передо', 'пред', 'предо',\n",
        "        'пo', 'под', 'подо', 'при', 'про', 'ради', 'с', 'со',\n",
        "        'сквозь', 'среди', 'у', 'через', 'чрез'}"
      ],
      "execution_count": null,
      "outputs": []
    },
    {
      "cell_type": "markdown",
      "metadata": {
        "colab_type": "text",
        "id": "DGr7jB6H9clF"
      },
      "source": [
        "Функции для обработки текстов:"
      ]
    },
    {
      "cell_type": "code",
      "metadata": {
        "colab_type": "code",
        "id": "zibn1KSq9clK",
        "colab": {}
      },
      "source": [
        "def normalize_text(text_list):\n",
        "    return [morpher.parse(word)[0].normal_form \\\n",
        "            for word in text_list if word not in stop]\n",
        "\n",
        "def preprocess_text(text):    \n",
        "    text_list = nltk.word_tokenize(str(text))\n",
        "    text_list = normalize_text(text_list)\n",
        "    return text_list"
      ],
      "execution_count": null,
      "outputs": []
    },
    {
      "cell_type": "markdown",
      "metadata": {
        "colab_type": "text",
        "id": "IsHjBLm49clQ"
      },
      "source": [
        "Обработка текстов:"
      ]
    },
    {
      "cell_type": "code",
      "metadata": {
        "colab_type": "code",
        "id": "aLuJeAYi9clR",
        "colab": {
          "base_uri": "https://localhost:8080/",
          "height": 34
        },
        "outputId": "4054597e-c059-4f61-9e35-dbcc1b9509c4"
      },
      "source": [
        "data['Text'] = data['Content'].str.lower()\n",
        "data['Text'] = data['Text'].str.replace(r'[.,]', ' ')\n",
        "data['Text'] = [preprocess_text(text_list) for text_list in tqdm(data['Text'])]"
      ],
      "execution_count": null,
      "outputs": [
        {
          "output_type": "stream",
          "text": [
            "100%|██████████| 19748/19748 [00:30<00:00, 653.85it/s]\n"
          ],
          "name": "stderr"
        }
      ]
    },
    {
      "cell_type": "markdown",
      "metadata": {
        "colab_type": "text",
        "id": "DCRYrXZG9clW"
      },
      "source": [
        "Датафрейм с обработанными текстами:"
      ]
    },
    {
      "cell_type": "code",
      "metadata": {
        "colab_type": "code",
        "id": "DNuRysbd9clY",
        "colab": {
          "base_uri": "https://localhost:8080/",
          "height": 529
        },
        "outputId": "b3313f84-554e-4229-ff3b-aea8bc553a2b"
      },
      "source": [
        "data['Text'] = data['Text'].str.join(' ')\n",
        "data.head(n=10)"
      ],
      "execution_count": null,
      "outputs": [
        {
          "output_type": "execute_result",
          "data": {
            "text/html": [
              "<div>\n",
              "<style scoped>\n",
              "    .dataframe tbody tr th:only-of-type {\n",
              "        vertical-align: middle;\n",
              "    }\n",
              "\n",
              "    .dataframe tbody tr th {\n",
              "        vertical-align: top;\n",
              "    }\n",
              "\n",
              "    .dataframe thead th {\n",
              "        text-align: right;\n",
              "    }\n",
              "</style>\n",
              "<table border=\"1\" class=\"dataframe\">\n",
              "  <thead>\n",
              "    <tr style=\"text-align: right;\">\n",
              "      <th></th>\n",
              "      <th>Rating</th>\n",
              "      <th>Content</th>\n",
              "      <th>Date</th>\n",
              "      <th>target</th>\n",
              "      <th>Text</th>\n",
              "    </tr>\n",
              "  </thead>\n",
              "  <tbody>\n",
              "    <tr>\n",
              "      <th>0</th>\n",
              "      <td>5</td>\n",
              "      <td>It just works!</td>\n",
              "      <td>2017-08-14</td>\n",
              "      <td>1</td>\n",
              "      <td>it just works !</td>\n",
              "    </tr>\n",
              "    <tr>\n",
              "      <th>1</th>\n",
              "      <td>4</td>\n",
              "      <td>В целом удобноное приложение...из минусов хотя...</td>\n",
              "      <td>2017-08-14</td>\n",
              "      <td>1</td>\n",
              "      <td>целое удобноной приложение минус хотеть слишко...</td>\n",
              "    </tr>\n",
              "    <tr>\n",
              "      <th>2</th>\n",
              "      <td>5</td>\n",
              "      <td>Отлично все</td>\n",
              "      <td>2017-08-14</td>\n",
              "      <td>1</td>\n",
              "      <td>отлично весь</td>\n",
              "    </tr>\n",
              "    <tr>\n",
              "      <th>3</th>\n",
              "      <td>5</td>\n",
              "      <td>Стал зависать на 1% работы антивируса. Дальше ...</td>\n",
              "      <td>2017-08-14</td>\n",
              "      <td>1</td>\n",
              "      <td>стать зависать 1 % работа антивирус далёкий ни...</td>\n",
              "    </tr>\n",
              "    <tr>\n",
              "      <th>4</th>\n",
              "      <td>5</td>\n",
              "      <td>Очень удобно, работает быстро.</td>\n",
              "      <td>2017-08-14</td>\n",
              "      <td>1</td>\n",
              "      <td>очень удобно работать быстро</td>\n",
              "    </tr>\n",
              "    <tr>\n",
              "      <th>5</th>\n",
              "      <td>5</td>\n",
              "      <td>Всё удобно норм 👍👍👍</td>\n",
              "      <td>2017-08-14</td>\n",
              "      <td>1</td>\n",
              "      <td>весь удобно норма 👍👍👍</td>\n",
              "    </tr>\n",
              "    <tr>\n",
              "      <th>6</th>\n",
              "      <td>5</td>\n",
              "      <td>Очень удобное приложение.</td>\n",
              "      <td>2017-08-14</td>\n",
              "      <td>1</td>\n",
              "      <td>очень удобный приложение</td>\n",
              "    </tr>\n",
              "    <tr>\n",
              "      <th>7</th>\n",
              "      <td>5</td>\n",
              "      <td>Все устраивает</td>\n",
              "      <td>2017-08-14</td>\n",
              "      <td>1</td>\n",
              "      <td>весь устраивать</td>\n",
              "    </tr>\n",
              "    <tr>\n",
              "      <th>8</th>\n",
              "      <td>5</td>\n",
              "      <td>У меня работает все четко. В отличии от банком...</td>\n",
              "      <td>2017-08-14</td>\n",
              "      <td>1</td>\n",
              "      <td>я работать весь чётко отличие банкомат который...</td>\n",
              "    </tr>\n",
              "    <tr>\n",
              "      <th>9</th>\n",
              "      <td>5</td>\n",
              "      <td>Очень все хорошо👍</td>\n",
              "      <td>2017-08-14</td>\n",
              "      <td>1</td>\n",
              "      <td>очень весь хорошо👍</td>\n",
              "    </tr>\n",
              "  </tbody>\n",
              "</table>\n",
              "</div>"
            ],
            "text/plain": [
              "   Rating  ...                                               Text\n",
              "0       5  ...                                    it just works !\n",
              "1       4  ...  целое удобноной приложение минус хотеть слишко...\n",
              "2       5  ...                                       отлично весь\n",
              "3       5  ...  стать зависать 1 % работа антивирус далёкий ни...\n",
              "4       5  ...                       очень удобно работать быстро\n",
              "5       5  ...                              весь удобно норма 👍👍👍\n",
              "6       5  ...                           очень удобный приложение\n",
              "7       5  ...                                    весь устраивать\n",
              "8       5  ...  я работать весь чётко отличие банкомат который...\n",
              "9       5  ...                                 очень весь хорошо👍\n",
              "\n",
              "[10 rows x 5 columns]"
            ]
          },
          "metadata": {
            "tags": []
          },
          "execution_count": 11
        }
      ]
    },
    {
      "cell_type": "markdown",
      "metadata": {
        "id": "kUiunZztJ4_l",
        "colab_type": "text"
      },
      "source": [
        "Разделение выборки на обучающую и тестовую:"
      ]
    },
    {
      "cell_type": "code",
      "metadata": {
        "colab_type": "code",
        "id": "Ouk1GMDi9cld",
        "colab": {}
      },
      "source": [
        "from sklearn.model_selection import train_test_split"
      ],
      "execution_count": null,
      "outputs": []
    },
    {
      "cell_type": "code",
      "metadata": {
        "colab_type": "code",
        "id": "NBTi9mYF9cli",
        "colab": {}
      },
      "source": [
        "X = data['Text']\n",
        "y = data['target']"
      ],
      "execution_count": null,
      "outputs": []
    },
    {
      "cell_type": "code",
      "metadata": {
        "colab_type": "code",
        "id": "7YkJcZ8C9cln",
        "colab": {}
      },
      "source": [
        "X_train, X_test, y_train, y_test = train_test_split(\n",
        "    X, y,\n",
        "    test_size=0.25,\n",
        "    random_state=42,\n",
        "    stratify=y\n",
        ")"
      ],
      "execution_count": null,
      "outputs": []
    },
    {
      "cell_type": "markdown",
      "metadata": {
        "id": "paF48yIAJ4_q",
        "colab_type": "text"
      },
      "source": [
        "Преобразование выборок для подачи сети на вход:"
      ]
    },
    {
      "cell_type": "code",
      "metadata": {
        "colab_type": "code",
        "id": "ZOi3Jv8xZWVs",
        "colab": {}
      },
      "source": [
        "import keras\n",
        "from keras.models import Sequential, Model\n",
        "from keras.layers import Dense, Dropout, Activation, Embedding, SimpleRNN, LSTM, GRU, Masking\n",
        "from keras.preprocessing.text import Tokenizer\n",
        "from keras.preprocessing.sequence import pad_sequences"
      ],
      "execution_count": null,
      "outputs": []
    },
    {
      "cell_type": "code",
      "metadata": {
        "colab_type": "code",
        "id": "F368VM8cZWKr",
        "colab": {}
      },
      "source": [
        "train_corpus = X_train.values\n",
        "test_corpus = X_test.values"
      ],
      "execution_count": null,
      "outputs": []
    },
    {
      "cell_type": "code",
      "metadata": {
        "colab_type": "code",
        "id": "J7EBSOO0ZWfw",
        "colab": {}
      },
      "source": [
        "tokenizer = Tokenizer(num_words=None, \n",
        "                      filters='#$%&()*+-<=>@[\\\\]^_`{|}~\\t\\n',\n",
        "                      lower = False, split = ' ')\n",
        "tokenizer.fit_on_texts(train_corpus)\n",
        "\n",
        "sequences_train = tokenizer.texts_to_sequences(train_corpus)\n",
        "sequences_test = tokenizer.texts_to_sequences(test_corpus)\n",
        "\n",
        "word_count = len(tokenizer.index_word) + 1\n",
        "training_length = max([len(i.split()) for i in train_corpus])\n",
        "\n",
        "X_train_sequanced = pad_sequences(sequences_train, maxlen=training_length)\n",
        "X_test_sequanced = pad_sequences(sequences_test, maxlen=training_length)"
      ],
      "execution_count": null,
      "outputs": []
    },
    {
      "cell_type": "markdown",
      "metadata": {
        "id": "GAMEfQqgJ4_w",
        "colab_type": "text"
      },
      "source": [
        "## 2. Обучение RNN"
      ]
    },
    {
      "cell_type": "markdown",
      "metadata": {
        "id": "D9_J05H6J4_x",
        "colab_type": "text"
      },
      "source": [
        "Сеть из вебинара:"
      ]
    },
    {
      "cell_type": "code",
      "metadata": {
        "colab_type": "code",
        "id": "axn3iV1nZWc2",
        "colab": {}
      },
      "source": [
        "model1 = Sequential()\n",
        "model1.add(\n",
        "    Embedding(input_dim=word_count,\n",
        "              input_length=training_length,\n",
        "              output_dim=30,\n",
        "              trainable=True,\n",
        "              mask_zero=True))\n",
        "model1.add(Masking(mask_value=0.0))\n",
        "model1.add(SimpleRNN(64))\n",
        "model1.add(Dense(64, activation='relu'))\n",
        "model1.add(Dropout(0.5))\n",
        "model1.add(Dense(1, activation='sigmoid'))\n",
        "\n",
        "model1.compile(optimizer='adam',\n",
        "               loss='binary_crossentropy',\n",
        "               metrics=['accuracy'])"
      ],
      "execution_count": null,
      "outputs": []
    },
    {
      "cell_type": "markdown",
      "metadata": {
        "id": "CWt7tDdXJ4_z",
        "colab_type": "text"
      },
      "source": [
        "Обучение сети:"
      ]
    },
    {
      "cell_type": "code",
      "metadata": {
        "colab_type": "code",
        "id": "Wg5_72njaMw_",
        "colab": {
          "base_uri": "https://localhost:8080/",
          "height": 377
        },
        "outputId": "09eee2fd-cfb5-44c4-9001-8322cfc055ad"
      },
      "source": [
        "history1 = model1.fit(X_train_sequanced, y_train,\n",
        "                      batch_size=10,\n",
        "                      epochs=10,\n",
        "                      verbose=1,\n",
        "                      validation_split=0.1)"
      ],
      "execution_count": null,
      "outputs": [
        {
          "output_type": "stream",
          "text": [
            "Epoch 1/10\n",
            "1333/1333 [==============================] - 63s 47ms/step - loss: 0.2345 - accuracy: 0.9045 - val_loss: 0.2095 - val_accuracy: 0.9096\n",
            "Epoch 2/10\n",
            "1333/1333 [==============================] - 63s 47ms/step - loss: 0.1554 - accuracy: 0.9401 - val_loss: 0.2076 - val_accuracy: 0.9157\n",
            "Epoch 3/10\n",
            "1333/1333 [==============================] - 63s 47ms/step - loss: 0.1374 - accuracy: 0.9458 - val_loss: 0.2362 - val_accuracy: 0.9116\n",
            "Epoch 4/10\n",
            "1333/1333 [==============================] - 63s 47ms/step - loss: 0.1151 - accuracy: 0.9572 - val_loss: 0.2238 - val_accuracy: 0.9049\n",
            "Epoch 5/10\n",
            "1333/1333 [==============================] - 63s 47ms/step - loss: 0.0965 - accuracy: 0.9667 - val_loss: 0.2590 - val_accuracy: 0.9130\n",
            "Epoch 6/10\n",
            "1333/1333 [==============================] - 63s 47ms/step - loss: 0.0866 - accuracy: 0.9692 - val_loss: 0.2931 - val_accuracy: 0.9123\n",
            "Epoch 7/10\n",
            "1333/1333 [==============================] - 63s 47ms/step - loss: 0.0709 - accuracy: 0.9769 - val_loss: 0.2591 - val_accuracy: 0.9116\n",
            "Epoch 8/10\n",
            "1333/1333 [==============================] - 63s 47ms/step - loss: 0.0594 - accuracy: 0.9811 - val_loss: 0.3249 - val_accuracy: 0.9116\n",
            "Epoch 9/10\n",
            "1333/1333 [==============================] - 63s 47ms/step - loss: 0.0545 - accuracy: 0.9815 - val_loss: 0.3800 - val_accuracy: 0.9123\n",
            "Epoch 10/10\n",
            "1333/1333 [==============================] - 64s 48ms/step - loss: 0.0442 - accuracy: 0.9855 - val_loss: 0.3277 - val_accuracy: 0.8779\n"
          ],
          "name": "stdout"
        }
      ]
    },
    {
      "cell_type": "markdown",
      "metadata": {
        "id": "M_q9HHvdJ4_1",
        "colab_type": "text"
      },
      "source": [
        "Проверка сети на тестовой выборке:"
      ]
    },
    {
      "cell_type": "code",
      "metadata": {
        "colab_type": "code",
        "id": "eN1CaKTSyd-y",
        "colab": {
          "base_uri": "https://localhost:8080/",
          "height": 34
        },
        "outputId": "e62d156e-ade8-406c-fdf0-8b426d6b5562"
      },
      "source": [
        "loss, acc = model1.evaluate(X_test_sequanced, y_test, batch_size=10, verbose=1)"
      ],
      "execution_count": null,
      "outputs": [
        {
          "output_type": "stream",
          "text": [
            "494/494 [==============================] - 5s 10ms/step - loss: 0.3305 - accuracy: 0.8773\n"
          ],
          "name": "stdout"
        }
      ]
    },
    {
      "cell_type": "markdown",
      "metadata": {
        "id": "1oyXhSSiJ4_3",
        "colab_type": "text"
      },
      "source": [
        "## 3. Обучение LSTM"
      ]
    },
    {
      "cell_type": "markdown",
      "metadata": {
        "id": "n3AAzUyVJ4_3",
        "colab_type": "text"
      },
      "source": [
        "Сеть из вебинара:"
      ]
    },
    {
      "cell_type": "code",
      "metadata": {
        "colab_type": "code",
        "id": "GAA1Vt-ga8dg",
        "colab": {}
      },
      "source": [
        "model2 = Sequential()\n",
        "model2.add(\n",
        "    Embedding(input_dim=word_count,\n",
        "              input_length=training_length,\n",
        "              output_dim=30,\n",
        "              trainable=True,\n",
        "              mask_zero=True))\n",
        "model2.add(Masking(mask_value=0.0))\n",
        "model2.add(LSTM(64, recurrent_dropout=0.2))\n",
        "model2.add(Dense(64, activation='relu'))\n",
        "model2.add(Dropout(0.5))\n",
        "model2.add(Dense(1, activation='sigmoid'))\n",
        "\n",
        "model2.compile(optimizer='adam',\n",
        "               loss='binary_crossentropy',\n",
        "               metrics=['accuracy'])"
      ],
      "execution_count": null,
      "outputs": []
    },
    {
      "cell_type": "markdown",
      "metadata": {
        "id": "FrHEA0O6J4_5",
        "colab_type": "text"
      },
      "source": [
        "Обучение сети:"
      ]
    },
    {
      "cell_type": "code",
      "metadata": {
        "colab_type": "code",
        "id": "TqhvIU_ja8zN",
        "colab": {
          "base_uri": "https://localhost:8080/",
          "height": 377
        },
        "outputId": "ba152a15-b2c5-4035-c9ba-a70e2c941d84"
      },
      "source": [
        "history2 = model2.fit(X_train_sequanced, y_train,\n",
        "                      batch_size=10,\n",
        "                      epochs=10,\n",
        "                      verbose=1,\n",
        "                      validation_split=0.1)"
      ],
      "execution_count": null,
      "outputs": [
        {
          "output_type": "stream",
          "text": [
            "Epoch 1/10\n",
            "1333/1333 [==============================] - 223s 167ms/step - loss: 0.2157 - accuracy: 0.9098 - val_loss: 0.2286 - val_accuracy: 0.9069\n",
            "Epoch 2/10\n",
            "1333/1333 [==============================] - 223s 167ms/step - loss: 0.1351 - accuracy: 0.9473 - val_loss: 0.2176 - val_accuracy: 0.9184\n",
            "Epoch 3/10\n",
            "1333/1333 [==============================] - 222s 167ms/step - loss: 0.1000 - accuracy: 0.9635 - val_loss: 0.2210 - val_accuracy: 0.9231\n",
            "Epoch 4/10\n",
            "1333/1333 [==============================] - 222s 167ms/step - loss: 0.0781 - accuracy: 0.9746 - val_loss: 0.2391 - val_accuracy: 0.9143\n",
            "Epoch 5/10\n",
            "1333/1333 [==============================] - 224s 168ms/step - loss: 0.0611 - accuracy: 0.9783 - val_loss: 0.3429 - val_accuracy: 0.9089\n",
            "Epoch 6/10\n",
            "1333/1333 [==============================] - 223s 167ms/step - loss: 0.0511 - accuracy: 0.9822 - val_loss: 0.3342 - val_accuracy: 0.9116\n",
            "Epoch 7/10\n",
            "1333/1333 [==============================] - 223s 167ms/step - loss: 0.0419 - accuracy: 0.9856 - val_loss: 0.3520 - val_accuracy: 0.9123\n",
            "Epoch 8/10\n",
            "1333/1333 [==============================] - 221s 166ms/step - loss: 0.0342 - accuracy: 0.9874 - val_loss: 0.3660 - val_accuracy: 0.9116\n",
            "Epoch 9/10\n",
            "1333/1333 [==============================] - 224s 168ms/step - loss: 0.0293 - accuracy: 0.9891 - val_loss: 0.4800 - val_accuracy: 0.9109\n",
            "Epoch 10/10\n",
            "1333/1333 [==============================] - 222s 166ms/step - loss: 0.0265 - accuracy: 0.9901 - val_loss: 0.4619 - val_accuracy: 0.9123\n"
          ],
          "name": "stdout"
        }
      ]
    },
    {
      "cell_type": "markdown",
      "metadata": {
        "id": "zoeqYXPSJ4_7",
        "colab_type": "text"
      },
      "source": [
        "Проверка сети на тестовой выборке:"
      ]
    },
    {
      "cell_type": "code",
      "metadata": {
        "colab_type": "code",
        "id": "RWnkTUpMcQUs",
        "colab": {
          "base_uri": "https://localhost:8080/",
          "height": 34
        },
        "outputId": "2aff35a9-60cc-4aa6-8228-cfb9240993e8"
      },
      "source": [
        "loss, acc = model2.evaluate(X_test_sequanced, y_test, batch_size=10, verbose=1)"
      ],
      "execution_count": null,
      "outputs": [
        {
          "output_type": "stream",
          "text": [
            "494/494 [==============================] - 11s 22ms/step - loss: 0.4574 - accuracy: 0.9139\n"
          ],
          "name": "stdout"
        }
      ]
    },
    {
      "cell_type": "markdown",
      "metadata": {
        "id": "Ktzvm3t3J4_9",
        "colab_type": "text"
      },
      "source": [
        "## 4. Обучение GRU"
      ]
    },
    {
      "cell_type": "markdown",
      "metadata": {
        "id": "gzPonqTiJ4_9",
        "colab_type": "text"
      },
      "source": [
        "Сеть из вебинара:"
      ]
    },
    {
      "cell_type": "code",
      "metadata": {
        "colab_type": "code",
        "id": "wjedcj3Ya9Bf",
        "colab": {}
      },
      "source": [
        "model3 = Sequential()\n",
        "model3.add(\n",
        "    Embedding(input_dim=word_count,\n",
        "              input_length=training_length,\n",
        "              output_dim=30,\n",
        "              trainable=True,\n",
        "              mask_zero=True))\n",
        "model3.add(Masking(mask_value=0.0))\n",
        "model3.add(GRU(64, recurrent_dropout=0.2))\n",
        "model3.add(Dense(64, activation='relu'))\n",
        "model3.add(Dropout(0.5))\n",
        "model3.add(Dense(1, activation='sigmoid'))\n",
        "\n",
        "model3.compile(optimizer='adam',\n",
        "               loss='binary_crossentropy',\n",
        "               metrics=['accuracy'])"
      ],
      "execution_count": null,
      "outputs": []
    },
    {
      "cell_type": "markdown",
      "metadata": {
        "id": "pZOl7CiSJ4__",
        "colab_type": "text"
      },
      "source": [
        "Обучение сети:"
      ]
    },
    {
      "cell_type": "code",
      "metadata": {
        "colab_type": "code",
        "id": "Jni4wF51b1Hd",
        "colab": {
          "base_uri": "https://localhost:8080/",
          "height": 377
        },
        "outputId": "8d85146d-148a-4f6e-e32b-1f56b4b10493"
      },
      "source": [
        "history3 = model3.fit(X_train_sequanced, y_train,\n",
        "                      batch_size=10,\n",
        "                      epochs=10,\n",
        "                      verbose=1,\n",
        "                      validation_split=0.1)"
      ],
      "execution_count": null,
      "outputs": [
        {
          "output_type": "stream",
          "text": [
            "Epoch 1/10\n",
            "1333/1333 [==============================] - 195s 147ms/step - loss: 0.2183 - accuracy: 0.9109 - val_loss: 0.2250 - val_accuracy: 0.9190\n",
            "Epoch 2/10\n",
            "1333/1333 [==============================] - 194s 145ms/step - loss: 0.1254 - accuracy: 0.9523 - val_loss: 0.2142 - val_accuracy: 0.9285\n",
            "Epoch 3/10\n",
            "1333/1333 [==============================] - 195s 146ms/step - loss: 0.0863 - accuracy: 0.9666 - val_loss: 0.2332 - val_accuracy: 0.9130\n",
            "Epoch 4/10\n",
            "1333/1333 [==============================] - 195s 147ms/step - loss: 0.0666 - accuracy: 0.9776 - val_loss: 0.2238 - val_accuracy: 0.9217\n",
            "Epoch 5/10\n",
            "1333/1333 [==============================] - 196s 147ms/step - loss: 0.0512 - accuracy: 0.9818 - val_loss: 0.2935 - val_accuracy: 0.9197\n",
            "Epoch 6/10\n",
            "1333/1333 [==============================] - 196s 147ms/step - loss: 0.0389 - accuracy: 0.9863 - val_loss: 0.3405 - val_accuracy: 0.9204\n",
            "Epoch 7/10\n",
            "1333/1333 [==============================] - 196s 147ms/step - loss: 0.0323 - accuracy: 0.9887 - val_loss: 0.3954 - val_accuracy: 0.9163\n",
            "Epoch 8/10\n",
            "1333/1333 [==============================] - 196s 147ms/step - loss: 0.0267 - accuracy: 0.9911 - val_loss: 0.3826 - val_accuracy: 0.9150\n",
            "Epoch 9/10\n",
            "1333/1333 [==============================] - 196s 147ms/step - loss: 0.0228 - accuracy: 0.9919 - val_loss: 0.4772 - val_accuracy: 0.9076\n",
            "Epoch 10/10\n",
            "1333/1333 [==============================] - 195s 146ms/step - loss: 0.0195 - accuracy: 0.9932 - val_loss: 0.5121 - val_accuracy: 0.9096\n"
          ],
          "name": "stdout"
        }
      ]
    },
    {
      "cell_type": "markdown",
      "metadata": {
        "id": "N_9pheeKJ5AC",
        "colab_type": "text"
      },
      "source": [
        "Проверка сети на тестовой выборке:"
      ]
    },
    {
      "cell_type": "code",
      "metadata": {
        "colab_type": "code",
        "id": "r9sZ8kEtb1Rs",
        "colab": {
          "base_uri": "https://localhost:8080/",
          "height": 34
        },
        "outputId": "a91e08bb-cabc-4a99-9ab0-e3c4fb610e20"
      },
      "source": [
        "loss, acc = model3.evaluate(X_test_sequanced, y_test, batch_size=10, verbose=1)"
      ],
      "execution_count": null,
      "outputs": [
        {
          "output_type": "stream",
          "text": [
            "494/494 [==============================] - 10s 21ms/step - loss: 0.4707 - accuracy: 0.9161\n"
          ],
          "name": "stdout"
        }
      ]
    },
    {
      "cell_type": "markdown",
      "metadata": {
        "id": "BXBO-MwfJ5AE",
        "colab_type": "text"
      },
      "source": [
        "## 5. Выводы"
      ]
    },
    {
      "cell_type": "markdown",
      "metadata": {
        "id": "q5FQTYHwJ5AF",
        "colab_type": "text"
      },
      "source": [
        "Построим графики долей правильных ответов на валидации в процессе обучения RNN, LSTM, GRU:"
      ]
    },
    {
      "cell_type": "code",
      "metadata": {
        "colab_type": "code",
        "id": "4Q6uxf1TBnVk",
        "colab": {
          "base_uri": "https://localhost:8080/",
          "height": 281
        },
        "outputId": "6e217643-065c-4edd-ff60-df86ea56ad80"
      },
      "source": [
        "plt.plot(history1.history['val_accuracy'], label='RNN', c='darkred')\n",
        "plt.plot(history2.history['val_accuracy'], label='LSTM', c='darkgreen')\n",
        "plt.plot(history3.history['val_accuracy'], label='GRU', c='darkblue')\n",
        "plt.title('Valid Accuracy in Learning History')\n",
        "plt.legend(loc='best')\n",
        "plt.grid(True)\n",
        "plt.show()"
      ],
      "execution_count": null,
      "outputs": [
        {
          "output_type": "display_data",
          "data": {
            "image/png": "[encoded data removed]",
            "text/plain": [
              "<Figure size 432x288 with 1 Axes>"
            ]
          },
          "metadata": {
            "tags": [],
            "needs_background": "light"
          }
        }
      ]
    },
    {
      "cell_type": "markdown",
      "metadata": {
        "id": "_MnK42swJ5AG",
        "colab_type": "text"
      },
      "source": [
        "**Выводы:**\n",
        " - LSTM, GRU дают примерно одинаковое качество (доля правильных ответов в диапазоне от 0.91 до 0.92), RNN немного хуже;\n",
        " - RNN обучилась быстрее (63 секунды на эпоху), GRU (195 секунд на эпоху), LSTM (223 секунды на эпоху) - намного медленее."
      ]
    },
    {
      "cell_type": "markdown",
      "metadata": {
        "id": "xG4UImLGJ5AH",
        "colab_type": "text"
      },
      "source": [
        "## Дополнительное задание"
      ]
    },
    {
      "cell_type": "markdown",
      "metadata": {
        "id": "7fcMGPzLJ5AH",
        "colab_type": "text"
      },
      "source": [
        "Написать на numpy LSTM-ячейку и проверить её работу с весами. полученными из обученной keras-модели LSTM.\n",
        "\n",
        "Получение весов из keras-модели:"
      ]
    },
    {
      "cell_type": "code",
      "metadata": {
        "colab_type": "code",
        "id": "bdMSRFYNv3t4",
        "colab": {}
      },
      "source": [
        "# весовые матрицы и векторы сдвигов\n",
        "Ws, Us, bs = model2.layers[2].get_weights()\n",
        "\n",
        "# размерность вектора скрытого состояния\n",
        "H = 64"
      ],
      "execution_count": null,
      "outputs": []
    },
    {
      "cell_type": "markdown",
      "metadata": {
        "id": "91PNwAgNJ5AJ",
        "colab_type": "text"
      },
      "source": [
        "Вырежем из сети LSTM первые слои\n",
        " - до LSTM-слоя (слои 0, 1);\n",
        " - с LSTM-слоем (слои 0, 1, 2);\n",
        "\n",
        "и оформим их в keras-модели - первая для получения входных векторов для написанной на numpy LSTM-ячейки (embs_layer), вторая для её валидации (lstm_layer):"
      ]
    },
    {
      "cell_type": "code",
      "metadata": {
        "colab_type": "code",
        "id": "AxU4JlGvJTQU",
        "colab": {}
      },
      "source": [
        "embs_layer = Model(inputs=model2.input,\n",
        "                   outputs=model2.layers[1].output,\n",
        "                   name='embs_layer')\n",
        "\n",
        "lstm_layer = Model(inputs=model2.input,\n",
        "                   outputs=model2.layers[2].output,\n",
        "                   name='lstm_layer')"
      ],
      "execution_count": null,
      "outputs": []
    },
    {
      "cell_type": "markdown",
      "metadata": {
        "id": "QUELqVeOJ5AL",
        "colab_type": "text"
      },
      "source": [
        "Получение входных векторов (embs) из первого тестового сообщения для LSTM-ячейки: "
      ]
    },
    {
      "cell_type": "code",
      "metadata": {
        "colab_type": "code",
        "id": "dMw2S6_bt4zz",
        "colab": {}
      },
      "source": [
        "inp = X_test_sequanced[0].reshape(1, -1)\n",
        "\n",
        "embs = embs_layer(inp).numpy()"
      ],
      "execution_count": null,
      "outputs": []
    },
    {
      "cell_type": "markdown",
      "metadata": {
        "id": "Au6PMJEZJ5AM",
        "colab_type": "text"
      },
      "source": [
        "**LSTM-ячейка написана на основе примеров ([link1](https://en.wikipedia.org/wiki/Long_short-term_memory#LSTM_with_a_forget_gate), [link2](https://fairyonice.github.io/Extract-weights-from-Keras's-LSTM-and-calcualte-hidden-and-cell-states.html)):**"
      ]
    },
    {
      "cell_type": "code",
      "metadata": {
        "colab_type": "code",
        "id": "uc2lSOC_ItAQ",
        "colab": {}
      },
      "source": [
        "def sigmoid(x):\n",
        "    return 1 / (1 + np.exp(-x))\n",
        "\n",
        "\n",
        "def tanh(x):\n",
        "    return np.tanh(x)\n",
        "\n",
        "\n",
        "def lstm(x, h_tm1, c_tm1):\n",
        "    s_t = x_t @ Ws + h_tm1 @ Us + bs\n",
        "    \n",
        "    i  = sigmoid(s_t[:H])      # входной вентиль (input gate)\n",
        "    f  = sigmoid(s_t[1*H:2*H]) # вентиль забывания (forget gate)\n",
        "    _c = tanh(s_t[2*H:3*H])    # вектор-кандидат состояния памяти\n",
        "    o  = sigmoid(s_t[3*H:])    # выходной вентиль (output gate)\n",
        "    c_t = i * _c + f * c_tm1   # текущий вектор состояния памяти\n",
        "    h_t = o * tanh(c_t)        # текущий вектор скрытого состояния\n",
        "    \n",
        "    return h_t, c_t"
      ],
      "execution_count": null,
      "outputs": []
    },
    {
      "cell_type": "markdown",
      "metadata": {
        "id": "41-JIqRbJ5AO",
        "colab_type": "text"
      },
      "source": [
        "Инициализируем векторы состояния памяти и скрытого состояния, после чего в цикле перебираем входные векторы, подавая их в LSTM-ячейку с учетом предыдущих векторов состояния памяти и скрытого состояния.\n",
        "<br>Выходом ячейки считаем последний вектор скрытого состояния:"
      ]
    },
    {
      "cell_type": "code",
      "metadata": {
        "colab_type": "code",
        "id": "qzQgIp9f0CBH",
        "colab": {
          "base_uri": "https://localhost:8080/",
          "height": 34
        },
        "outputId": "83488187-1f6b-43b3-9d97-7131cf9e66e2"
      },
      "source": [
        "h_tm1 = np.zeros(H)\n",
        "c_tm1 = np.zeros(H)\n",
        "for x_t in tqdm(embs[0]):\n",
        "    h_t, c_t = lstm(x_t, h_tm1, c_tm1)\n",
        "    h_tm1, c_tm1 = h_t, c_t"
      ],
      "execution_count": null,
      "outputs": [
        {
          "output_type": "stream",
          "text": [
            "100%|██████████| 155/155 [00:00<00:00, 5884.64it/s]\n"
          ],
          "name": "stderr"
        }
      ]
    },
    {
      "cell_type": "markdown",
      "metadata": {
        "id": "duDtqOFPJ5AQ",
        "colab_type": "text"
      },
      "source": [
        "Выход написанной на numpy LSTM-ячейки:"
      ]
    },
    {
      "cell_type": "code",
      "metadata": {
        "colab_type": "code",
        "id": "ZpsKZ8ncID16",
        "colab": {
          "base_uri": "https://localhost:8080/",
          "height": 289
        },
        "outputId": "df65ed30-64e2-4345-81b9-08a355873da3"
      },
      "source": [
        "lstm_custom_out = h_t.reshape(1, H)\n",
        "print(lstm_custom_out)"
      ],
      "execution_count": null,
      "outputs": [
        {
          "output_type": "stream",
          "text": [
            "[[ 5.85987040e-01  1.00802415e-02  2.70556841e-02  4.13827999e-01\n",
            "  -3.84269373e-02  3.08639195e-02  9.70589248e-02  2.22769122e-03\n",
            "   7.65729655e-03 -5.80939142e-04  7.96204363e-02  4.00368015e-03\n",
            "  -4.68257436e-02 -1.67085760e-02 -2.39128293e-02 -1.11640982e-01\n",
            "  -5.33592985e-02 -1.89299428e-02  3.83360435e-02 -5.64420683e-01\n",
            "   1.06727492e-02 -2.06889269e-02 -3.25906837e-02  1.78115142e-02\n",
            "   5.40638624e-01  3.18057469e-02 -8.06994719e-02  2.99003326e-02\n",
            "  -3.95796290e-01 -6.86902733e-01  9.09084948e-03 -1.70819146e-03\n",
            "  -3.00373857e-02 -2.23652728e-02  4.44513098e-02  2.39409571e-02\n",
            "  -2.38041992e-01 -1.27753237e-01 -4.27741149e-01  2.95990678e-02\n",
            "  -4.60699135e-01  1.39623992e-01  3.14043554e-02 -2.22445111e-02\n",
            "   1.51957664e-01  2.21690588e-02 -9.45958615e-05  1.65851337e-02\n",
            "  -4.53014205e-02 -8.85659361e-03 -3.15214940e-02  5.04420796e-02\n",
            "  -8.57630815e-02 -1.73271359e-02 -2.91103562e-02 -4.55928089e-01\n",
            "  -6.68444805e-01 -2.49066367e-02  9.43536865e-02 -7.02825133e-02\n",
            "   1.56916325e-01  5.77408685e-01 -4.35835514e-02 -4.19779914e-02]]\n"
          ],
          "name": "stdout"
        }
      ]
    },
    {
      "cell_type": "markdown",
      "metadata": {
        "id": "dfEh4nS5J5AS",
        "colab_type": "text"
      },
      "source": [
        "Выход обрезанной по LSTM-слой keras-модели (после подачи на неё нужное тестовое сообщение):"
      ]
    },
    {
      "cell_type": "code",
      "metadata": {
        "colab_type": "code",
        "id": "SKia0PRTJdH1",
        "colab": {
          "base_uri": "https://localhost:8080/",
          "height": 289
        },
        "outputId": "a4d18ea0-ad1c-4994-9ddd-8802eea26887"
      },
      "source": [
        "lstm_keras_out = lstm_layer(inp).numpy()\n",
        "print(lstm_keras_out)"
      ],
      "execution_count": null,
      "outputs": [
        {
          "output_type": "stream",
          "text": [
            "[[ 5.8598703e-01  1.0080275e-02  2.7055662e-02  4.1382796e-01\n",
            "  -3.8426932e-02  3.0863913e-02  9.7058892e-02  2.2277052e-03\n",
            "   7.6572965e-03 -5.8094895e-04  7.9620458e-02  4.0036789e-03\n",
            "  -4.6825711e-02 -1.6708568e-02 -2.3912828e-02 -1.1164098e-01\n",
            "  -5.3359270e-02 -1.8929943e-02  3.8336039e-02 -5.6442064e-01\n",
            "   1.0672748e-02 -2.0688919e-02 -3.2590669e-02  1.7811516e-02\n",
            "   5.4063863e-01  3.1805806e-02 -8.0699451e-02  2.9900320e-02\n",
            "  -3.9579627e-01 -6.8690264e-01  9.0908427e-03 -1.7081975e-03\n",
            "  -3.0037366e-02 -2.2365270e-02  4.4451308e-02  2.3940956e-02\n",
            "  -2.3804203e-01 -1.2775327e-01 -4.2774114e-01  2.9599074e-02\n",
            "  -4.6069914e-01  1.3962394e-01  3.1404354e-02 -2.2244509e-02\n",
            "   1.5195768e-01  2.2169046e-02 -9.4588882e-05  1.6585108e-02\n",
            "  -4.5301430e-02 -8.8565908e-03 -3.1521495e-02  5.0442062e-02\n",
            "  -8.5763067e-02 -1.7327139e-02 -2.9110355e-02 -4.5592809e-01\n",
            "  -6.6844475e-01 -2.4906628e-02  9.4353683e-02 -7.0282497e-02\n",
            "   1.5691634e-01  5.7740867e-01 -4.3583550e-02 -4.1978005e-02]]\n"
          ],
          "name": "stdout"
        }
      ]
    },
    {
      "cell_type": "markdown",
      "metadata": {
        "id": "SYZZQtEtJ5AT",
        "colab_type": "text"
      },
      "source": [
        "Оба выходных вектора практически равны. Проверим их равенство с точностью до седьмого знака:"
      ]
    },
    {
      "cell_type": "code",
      "metadata": {
        "colab_type": "code",
        "id": "wUD1BFYGdF4A",
        "colab": {}
      },
      "source": [
        "np.testing.assert_almost_equal(lstm_custom_out, lstm_keras_out)"
      ],
      "execution_count": null,
      "outputs": []
    }
  ]
}