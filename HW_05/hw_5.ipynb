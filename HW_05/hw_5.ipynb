{
  "nbformat": 4,
  "nbformat_minor": 0,
  "metadata": {
    "colab": {
      "name": "hw_5.ipynb",
      "provenance": [],
      "collapsed_sections": []
    },
    "kernelspec": {
      "display_name": "Python 3",
      "language": "python",
      "name": "python3"
    },
    "language_info": {
      "codemirror_mode": {
        "name": "ipython",
        "version": 3
      },
      "file_extension": ".py",
      "mimetype": "text/x-python",
      "name": "python",
      "nbconvert_exporter": "python",
      "pygments_lexer": "ipython3",
      "version": "3.7.3"
    }
  },
  "cells": [
    {
      "cell_type": "markdown",
      "metadata": {
        "colab_type": "text",
        "id": "FQ5uhAuW9cj6"
      },
      "source": [
        "Задание из 2-х частей.\n",
        "Берем отызывы за лето (из архива с материалами или предыдущего занятия)\n",
        "1. Учим conv сеть для классификации - выбить auc выше 0.95\n",
        "2. Предобучаем word2vec и его эмбединга инициализируем сетку, как влияет на качество?"
      ]
    },
    {
      "cell_type": "code",
      "metadata": {
        "colab_type": "code",
        "id": "rwLYYcS19cj8",
        "colab": {}
      },
      "source": [
        "import numpy as np\n",
        "import pandas as pd\n",
        "from tqdm import tqdm\n",
        "import matplotlib.pyplot as plt\n",
        "\n",
        "%matplotlib inline\n",
        "\n",
        "import warnings \n",
        "warnings.filterwarnings(\"ignore\", category=Warning)"
      ],
      "execution_count": null,
      "outputs": []
    },
    {
      "cell_type": "markdown",
      "metadata": {
        "colab_type": "text",
        "id": "wtPUA3Gs9ckD"
      },
      "source": [
        "## 0. Загрузка и обзор данных"
      ]
    },
    {
      "cell_type": "code",
      "metadata": {
        "colab_type": "code",
        "id": "mjDvgXsN9ckE",
        "colab": {
          "base_uri": "https://localhost:8080/",
          "height": 204
        },
        "outputId": "6dc55f30-8eff-4652-9b85-d4a758f55517"
      },
      "source": [
        "data = pd.read_excel(\"отзывы за лето.xls\")\n",
        "data.head()"
      ],
      "execution_count": null,
      "outputs": [
        {
          "output_type": "execute_result",
          "data": {
            "text/html": [
              "<div>\n",
              "<style scoped>\n",
              "    .dataframe tbody tr th:only-of-type {\n",
              "        vertical-align: middle;\n",
              "    }\n",
              "\n",
              "    .dataframe tbody tr th {\n",
              "        vertical-align: top;\n",
              "    }\n",
              "\n",
              "    .dataframe thead th {\n",
              "        text-align: right;\n",
              "    }\n",
              "</style>\n",
              "<table border=\"1\" class=\"dataframe\">\n",
              "  <thead>\n",
              "    <tr style=\"text-align: right;\">\n",
              "      <th></th>\n",
              "      <th>Rating</th>\n",
              "      <th>Content</th>\n",
              "      <th>Date</th>\n",
              "    </tr>\n",
              "  </thead>\n",
              "  <tbody>\n",
              "    <tr>\n",
              "      <th>0</th>\n",
              "      <td>5</td>\n",
              "      <td>It just works!</td>\n",
              "      <td>2017-08-14</td>\n",
              "    </tr>\n",
              "    <tr>\n",
              "      <th>1</th>\n",
              "      <td>4</td>\n",
              "      <td>В целом удобноное приложение...из минусов хотя...</td>\n",
              "      <td>2017-08-14</td>\n",
              "    </tr>\n",
              "    <tr>\n",
              "      <th>2</th>\n",
              "      <td>5</td>\n",
              "      <td>Отлично все</td>\n",
              "      <td>2017-08-14</td>\n",
              "    </tr>\n",
              "    <tr>\n",
              "      <th>3</th>\n",
              "      <td>5</td>\n",
              "      <td>Стал зависать на 1% работы антивируса. Дальше ...</td>\n",
              "      <td>2017-08-14</td>\n",
              "    </tr>\n",
              "    <tr>\n",
              "      <th>4</th>\n",
              "      <td>5</td>\n",
              "      <td>Очень удобно, работает быстро.</td>\n",
              "      <td>2017-08-14</td>\n",
              "    </tr>\n",
              "  </tbody>\n",
              "</table>\n",
              "</div>"
            ],
            "text/plain": [
              "   Rating                                            Content        Date\n",
              "0       5                                     It just works!  2017-08-14\n",
              "1       4  В целом удобноное приложение...из минусов хотя...  2017-08-14\n",
              "2       5                                        Отлично все  2017-08-14\n",
              "3       5  Стал зависать на 1% работы антивируса. Дальше ...  2017-08-14\n",
              "4       5                     Очень удобно, работает быстро.  2017-08-14"
            ]
          },
          "metadata": {
            "tags": []
          },
          "execution_count": 2
        }
      ]
    },
    {
      "cell_type": "code",
      "metadata": {
        "colab_type": "code",
        "id": "48q96sYD9ckL",
        "colab": {
          "base_uri": "https://localhost:8080/",
          "height": 119
        },
        "outputId": "0439cece-0d55-47f5-f416-993399951702"
      },
      "source": [
        "data['Rating'].value_counts()"
      ],
      "execution_count": null,
      "outputs": [
        {
          "output_type": "execute_result",
          "data": {
            "text/plain": [
              "5    14586\n",
              "1     2276\n",
              "4     2138\n",
              "3      911\n",
              "2      748\n",
              "Name: Rating, dtype: int64"
            ]
          },
          "metadata": {
            "tags": []
          },
          "execution_count": 3
        }
      ]
    },
    {
      "cell_type": "code",
      "metadata": {
        "colab_type": "code",
        "id": "RYifcm_M9ckc",
        "colab": {}
      },
      "source": [
        "data = data[data['Rating'] != 3]\n",
        "data['target'] = data['Rating'] > 3\n",
        "data['target'] = data['target'].astype(int)"
      ],
      "execution_count": null,
      "outputs": []
    },
    {
      "cell_type": "code",
      "metadata": {
        "colab_type": "code",
        "id": "thWsmq1l9ckj",
        "colab": {
          "base_uri": "https://localhost:8080/",
          "height": 68
        },
        "outputId": "5baf3f30-d2ab-4e0e-9df4-b341ec62998b"
      },
      "source": [
        "data['target'].value_counts()"
      ],
      "execution_count": null,
      "outputs": [
        {
          "output_type": "execute_result",
          "data": {
            "text/plain": [
              "1    16724\n",
              "0     3024\n",
              "Name: target, dtype: int64"
            ]
          },
          "metadata": {
            "tags": []
          },
          "execution_count": 5
        }
      ]
    },
    {
      "cell_type": "markdown",
      "metadata": {
        "colab_type": "text",
        "id": "Cgsbm_zD9ckp"
      },
      "source": [
        "**Положительные отзывы:**"
      ]
    },
    {
      "cell_type": "code",
      "metadata": {
        "colab_type": "code",
        "id": "Yi_sJRjn9ckq",
        "colab": {
          "base_uri": "https://localhost:8080/",
          "height": 374
        },
        "outputId": "b453fa57-5817-4b13-c02e-8a5da1a87882"
      },
      "source": [
        "data.loc[data['target'] == 1, 'Content'].sample(20, random_state=42)"
      ],
      "execution_count": null,
      "outputs": [
        {
          "output_type": "execute_result",
          "data": {
            "text/plain": [
              "19216                                  Спасибо, все удобно\n",
              "12380                                                   Ok\n",
              "953                                                Отлично\n",
              "15329                                     Удобное спасибо!\n",
              "12421                                  Отличное приложение\n",
              "17805                                                   Ок\n",
              "8245                                                  норм\n",
              "7299                                               отлично\n",
              "5504                              Очень удобное приложение\n",
              "19928                                              Отлично\n",
              "12680    Заходить в приложение стало в 2 раза дольше,фу...\n",
              "7209                Не могу скачать приложение, ошибка 963\n",
              "12721                 Всё отлично!приложение очень радует!\n",
              "10057                                Удобно.Быстро.Надежно\n",
              "3191                                Очень просто и быстро.\n",
              "5886     Мне понравилось очень удобно сидиш дома и все ...\n",
              "10309    Перестало заходить, причем именно дома по wi f...\n",
              "8383                                    супер!очень удобно\n",
              "8886     Отличное приложение. Весь нужный для обывателя...\n",
              "1022                                           Дайте денег\n",
              "Name: Content, dtype: object"
            ]
          },
          "metadata": {
            "tags": []
          },
          "execution_count": 6
        }
      ]
    },
    {
      "cell_type": "markdown",
      "metadata": {
        "colab_type": "text",
        "id": "59NV5Olf9ckw"
      },
      "source": [
        "**Отрицательные отзывы:**"
      ]
    },
    {
      "cell_type": "code",
      "metadata": {
        "colab_type": "code",
        "id": "y3zC3lPi9cky",
        "colab": {
          "base_uri": "https://localhost:8080/",
          "height": 374
        },
        "outputId": "3df56404-2ee7-4085-f284-cf5ca9ad250b"
      },
      "source": [
        "data.loc[data['target'] == 0, 'Content'].sample(20, random_state=42)"
      ],
      "execution_count": null,
      "outputs": [
        {
          "output_type": "execute_result",
          "data": {
            "text/plain": [
              "20636                     Дайте доступ к роот правам, с*ки\n",
              "2226     По три раза просит пароль задолбал исправьте п...\n",
              "13980    Ну задолбало уже по 2-3 раза вводить пароль дл...\n",
              "13173    Если честно - дерьмо Ваше приложение! Исправьт...\n",
              "8452                             Не приходит СМС с паролем\n",
              "10162    В шаблонах чехарда появляются записи из Контак...\n",
              "506      Куда подевалось вход по отпечатку? При запуске...\n",
              "17032    Все было хорошо недавно перестало работать из....\n",
              "11215    Не устанавливается приложение!Раньше все было ...\n",
              "3582     Установил приложение. Зарегистрироваться так и...\n",
              "20173    У меня тоже телефон meizu pro 6. И тоже пишет ...\n",
              "9355     Почему у сбера переводы длятся вечность? Польз...\n",
              "8580     Здравствуйте. После последнего обновления стал...\n",
              "1742     При регистрации не могу ввести разовый пароль ...\n",
              "456      Разрабы тупые рукожопы! Наковыряли в обновлени...\n",
              "15358    Не могу войти на свой счет и зарегать новый не...\n",
              "20115    Очень медленное приложение в начале загрузки, ...\n",
              "9829                       Не приходит смс для регистрации\n",
              "14461    Проблемы с подключением. Долго захожу в личный...\n",
              "1360              При регистрации не приходит смс, почему?\n",
              "Name: Content, dtype: object"
            ]
          },
          "metadata": {
            "tags": []
          },
          "execution_count": 7
        }
      ]
    },
    {
      "cell_type": "markdown",
      "metadata": {
        "colab_type": "text",
        "id": "QREkm8H79ck3"
      },
      "source": [
        "## 1. Обработка текстов"
      ]
    },
    {
      "cell_type": "code",
      "metadata": {
        "colab_type": "code",
        "id": "YJ0BYR5E9ck5",
        "colab": {}
      },
      "source": [
        "import nltk\n",
        "from nltk.tokenize import word_tokenize\n",
        "\n",
        "from pymorphy2 import MorphAnalyzer"
      ],
      "execution_count": null,
      "outputs": []
    },
    {
      "cell_type": "markdown",
      "metadata": {
        "colab_type": "text",
        "id": "D2AiaO-79ck-"
      },
      "source": [
        "Ограничимся минимальной очисткой текстов - только от точек, запятых и предлогов:"
      ]
    },
    {
      "cell_type": "code",
      "metadata": {
        "colab_type": "code",
        "id": "HbK-VAq99ck_",
        "colab": {}
      },
      "source": [
        "punctuation = r'[,.]'\n",
        "morpher = MorphAnalyzer()\n",
        "\n",
        "stop = {'без', 'безо', 'близ', 'в', 'во', 'вместо', 'вне',\n",
        "        'для', 'до', 'за', 'из', 'изо', 'из-за', 'из-под', \n",
        "        'к', 'ко', 'кроме', 'между', 'меж', 'на', 'над', 'надо',\n",
        "        'о', 'об', 'обо', 'от', 'ото', 'перед', 'передо', 'пред', 'предо',\n",
        "        'пo', 'под', 'подо', 'при', 'про', 'ради', 'с', 'со',\n",
        "        'сквозь', 'среди', 'у', 'через', 'чрез'}"
      ],
      "execution_count": null,
      "outputs": []
    },
    {
      "cell_type": "markdown",
      "metadata": {
        "colab_type": "text",
        "id": "DGr7jB6H9clF"
      },
      "source": [
        "Функции для обработки текстов:"
      ]
    },
    {
      "cell_type": "code",
      "metadata": {
        "colab_type": "code",
        "id": "zibn1KSq9clK",
        "colab": {}
      },
      "source": [
        "def normalize_text(text_list):\n",
        "    return [morpher.parse(word)[0].normal_form \\\n",
        "            for word in text_list if word not in stop]\n",
        "\n",
        "def preprocess_text(text):    \n",
        "    text_list = nltk.word_tokenize(str(text))\n",
        "    text_list = normalize_text(text_list)\n",
        "    return text_list"
      ],
      "execution_count": null,
      "outputs": []
    },
    {
      "cell_type": "markdown",
      "metadata": {
        "colab_type": "text",
        "id": "IsHjBLm49clQ"
      },
      "source": [
        "Обработка текстов:"
      ]
    },
    {
      "cell_type": "code",
      "metadata": {
        "colab_type": "code",
        "id": "aLuJeAYi9clR",
        "colab": {
          "base_uri": "https://localhost:8080/",
          "height": 34
        },
        "outputId": "2ddda87b-2bdc-4655-99c9-11005a0f64e4"
      },
      "source": [
        "data['Text'] = data['Content'].str.lower()\n",
        "data['Text'] = data['Text'].str.replace(r'[.,]', ' ')\n",
        "data['Text'] = [preprocess_text(text_list) for text_list in tqdm(data['Text'])]"
      ],
      "execution_count": null,
      "outputs": [
        {
          "output_type": "stream",
          "text": [
            "100%|██████████| 19748/19748 [00:30<00:00, 638.45it/s]\n"
          ],
          "name": "stderr"
        }
      ]
    },
    {
      "cell_type": "markdown",
      "metadata": {
        "colab_type": "text",
        "id": "DCRYrXZG9clW"
      },
      "source": [
        "Датафрейм с обработанными текстами:"
      ]
    },
    {
      "cell_type": "code",
      "metadata": {
        "colab_type": "code",
        "id": "DNuRysbd9clY",
        "colab": {
          "base_uri": "https://localhost:8080/",
          "height": 529
        },
        "outputId": "4eacda59-29d9-461d-aa0e-7cdbec344880"
      },
      "source": [
        "data['Text'] = data['Text'].str.join(' ')\n",
        "data.head(n=10)"
      ],
      "execution_count": null,
      "outputs": [
        {
          "output_type": "execute_result",
          "data": {
            "text/html": [
              "<div>\n",
              "<style scoped>\n",
              "    .dataframe tbody tr th:only-of-type {\n",
              "        vertical-align: middle;\n",
              "    }\n",
              "\n",
              "    .dataframe tbody tr th {\n",
              "        vertical-align: top;\n",
              "    }\n",
              "\n",
              "    .dataframe thead th {\n",
              "        text-align: right;\n",
              "    }\n",
              "</style>\n",
              "<table border=\"1\" class=\"dataframe\">\n",
              "  <thead>\n",
              "    <tr style=\"text-align: right;\">\n",
              "      <th></th>\n",
              "      <th>Rating</th>\n",
              "      <th>Content</th>\n",
              "      <th>Date</th>\n",
              "      <th>target</th>\n",
              "      <th>Text</th>\n",
              "    </tr>\n",
              "  </thead>\n",
              "  <tbody>\n",
              "    <tr>\n",
              "      <th>0</th>\n",
              "      <td>5</td>\n",
              "      <td>It just works!</td>\n",
              "      <td>2017-08-14</td>\n",
              "      <td>1</td>\n",
              "      <td>it just works !</td>\n",
              "    </tr>\n",
              "    <tr>\n",
              "      <th>1</th>\n",
              "      <td>4</td>\n",
              "      <td>В целом удобноное приложение...из минусов хотя...</td>\n",
              "      <td>2017-08-14</td>\n",
              "      <td>1</td>\n",
              "      <td>целое удобноной приложение минус хотеть слишко...</td>\n",
              "    </tr>\n",
              "    <tr>\n",
              "      <th>2</th>\n",
              "      <td>5</td>\n",
              "      <td>Отлично все</td>\n",
              "      <td>2017-08-14</td>\n",
              "      <td>1</td>\n",
              "      <td>отлично весь</td>\n",
              "    </tr>\n",
              "    <tr>\n",
              "      <th>3</th>\n",
              "      <td>5</td>\n",
              "      <td>Стал зависать на 1% работы антивируса. Дальше ...</td>\n",
              "      <td>2017-08-14</td>\n",
              "      <td>1</td>\n",
              "      <td>стать зависать 1 % работа антивирус далёкий ни...</td>\n",
              "    </tr>\n",
              "    <tr>\n",
              "      <th>4</th>\n",
              "      <td>5</td>\n",
              "      <td>Очень удобно, работает быстро.</td>\n",
              "      <td>2017-08-14</td>\n",
              "      <td>1</td>\n",
              "      <td>очень удобно работать быстро</td>\n",
              "    </tr>\n",
              "    <tr>\n",
              "      <th>5</th>\n",
              "      <td>5</td>\n",
              "      <td>Всё удобно норм 👍👍👍</td>\n",
              "      <td>2017-08-14</td>\n",
              "      <td>1</td>\n",
              "      <td>весь удобно норма 👍👍👍</td>\n",
              "    </tr>\n",
              "    <tr>\n",
              "      <th>6</th>\n",
              "      <td>5</td>\n",
              "      <td>Очень удобное приложение.</td>\n",
              "      <td>2017-08-14</td>\n",
              "      <td>1</td>\n",
              "      <td>очень удобный приложение</td>\n",
              "    </tr>\n",
              "    <tr>\n",
              "      <th>7</th>\n",
              "      <td>5</td>\n",
              "      <td>Все устраивает</td>\n",
              "      <td>2017-08-14</td>\n",
              "      <td>1</td>\n",
              "      <td>весь устраивать</td>\n",
              "    </tr>\n",
              "    <tr>\n",
              "      <th>8</th>\n",
              "      <td>5</td>\n",
              "      <td>У меня работает все четко. В отличии от банком...</td>\n",
              "      <td>2017-08-14</td>\n",
              "      <td>1</td>\n",
              "      <td>я работать весь чётко отличие банкомат который...</td>\n",
              "    </tr>\n",
              "    <tr>\n",
              "      <th>9</th>\n",
              "      <td>5</td>\n",
              "      <td>Очень все хорошо👍</td>\n",
              "      <td>2017-08-14</td>\n",
              "      <td>1</td>\n",
              "      <td>очень весь хорошо👍</td>\n",
              "    </tr>\n",
              "  </tbody>\n",
              "</table>\n",
              "</div>"
            ],
            "text/plain": [
              "   Rating  ...                                               Text\n",
              "0       5  ...                                    it just works !\n",
              "1       4  ...  целое удобноной приложение минус хотеть слишко...\n",
              "2       5  ...                                       отлично весь\n",
              "3       5  ...  стать зависать 1 % работа антивирус далёкий ни...\n",
              "4       5  ...                       очень удобно работать быстро\n",
              "5       5  ...                              весь удобно норма 👍👍👍\n",
              "6       5  ...                           очень удобный приложение\n",
              "7       5  ...                                    весь устраивать\n",
              "8       5  ...  я работать весь чётко отличие банкомат который...\n",
              "9       5  ...                                 очень весь хорошо👍\n",
              "\n",
              "[10 rows x 5 columns]"
            ]
          },
          "metadata": {
            "tags": []
          },
          "execution_count": 12
        }
      ]
    },
    {
      "cell_type": "markdown",
      "metadata": {
        "id": "4EnIh1leo8bB",
        "colab_type": "text"
      },
      "source": [
        "Разделение выборки на обучающую и тестовую:"
      ]
    },
    {
      "cell_type": "code",
      "metadata": {
        "colab_type": "code",
        "id": "Ouk1GMDi9cld",
        "colab": {}
      },
      "source": [
        "from sklearn.model_selection import train_test_split"
      ],
      "execution_count": null,
      "outputs": []
    },
    {
      "cell_type": "code",
      "metadata": {
        "colab_type": "code",
        "id": "NBTi9mYF9cli",
        "colab": {}
      },
      "source": [
        "X = data['Text']\n",
        "y = data['target']"
      ],
      "execution_count": null,
      "outputs": []
    },
    {
      "cell_type": "code",
      "metadata": {
        "colab_type": "code",
        "id": "7YkJcZ8C9cln",
        "colab": {}
      },
      "source": [
        "X_train, X_test, y_train, y_test = train_test_split(\n",
        "    X, y,\n",
        "    test_size=0.25,\n",
        "    random_state=42,\n",
        "    stratify=y\n",
        ")"
      ],
      "execution_count": null,
      "outputs": []
    },
    {
      "cell_type": "markdown",
      "metadata": {
        "id": "aZ4EEiiGo8bG",
        "colab_type": "text"
      },
      "source": [
        "Преобразование выборок для подачи сети на вход:"
      ]
    },
    {
      "cell_type": "code",
      "metadata": {
        "colab_type": "code",
        "id": "-BQajkHX9cl0",
        "colab": {}
      },
      "source": [
        "max_words = 5000\n",
        "emb_len = 128\n",
        "max_len = 40"
      ],
      "execution_count": null,
      "outputs": []
    },
    {
      "cell_type": "code",
      "metadata": {
        "colab_type": "code",
        "id": "le_eb8bxwmgq",
        "colab": {}
      },
      "source": [
        "train_corpus = ' '.join(X_train)\n",
        "tokens = word_tokenize(train_corpus)"
      ],
      "execution_count": null,
      "outputs": []
    },
    {
      "cell_type": "code",
      "metadata": {
        "colab_type": "code",
        "id": "GuC0b0F49cl-",
        "colab": {}
      },
      "source": [
        "tokens_filtered = [word for word in tokens if word.isalnum()]"
      ],
      "execution_count": null,
      "outputs": []
    },
    {
      "cell_type": "code",
      "metadata": {
        "colab_type": "code",
        "id": "E5njEGaQ9cmE",
        "colab": {}
      },
      "source": [
        "dist = nltk.probability.FreqDist(tokens_filtered)\n",
        "tokens_filtered_top = [pair[0] for pair in dist.most_common(max_words-1)]"
      ],
      "execution_count": null,
      "outputs": []
    },
    {
      "cell_type": "code",
      "metadata": {
        "colab_type": "code",
        "id": "Npa7tTsx9cmJ",
        "colab": {
          "base_uri": "https://localhost:8080/",
          "height": 187
        },
        "outputId": "914740d0-fa97-42d5-ef2c-c5dd9f1cbf39"
      },
      "source": [
        "tokens_filtered_top[:10]"
      ],
      "execution_count": null,
      "outputs": [
        {
          "output_type": "execute_result",
          "data": {
            "text/plain": [
              "['приложение',\n",
              " 'весь',\n",
              " 'не',\n",
              " 'и',\n",
              " 'очень',\n",
              " 'удобно',\n",
              " 'я',\n",
              " 'работать',\n",
              " 'удобный',\n",
              " 'что']"
            ]
          },
          "metadata": {
            "tags": []
          },
          "execution_count": 20
        }
      ]
    },
    {
      "cell_type": "markdown",
      "metadata": {
        "id": "VlFpcJtCo8bO",
        "colab_type": "text"
      },
      "source": [
        "Словарь \"слово-идентификатор\":"
      ]
    },
    {
      "cell_type": "code",
      "metadata": {
        "colab_type": "code",
        "id": "0OwWSu6Q9cmP",
        "colab": {}
      },
      "source": [
        "vocabulary = {v: k for k, v in dict(enumerate(tokens_filtered_top, 1)).items()}"
      ],
      "execution_count": null,
      "outputs": []
    },
    {
      "cell_type": "code",
      "metadata": {
        "colab_type": "code",
        "id": "_JD-Q8dp9cmW",
        "colab": {}
      },
      "source": [
        "def text_to_sequence(text, maxlen):\n",
        "    result = []\n",
        "    tokens = word_tokenize(text.lower())\n",
        "    tokens_filtered = [word for word in tokens if word.isalnum()]\n",
        "    for word in tokens_filtered:\n",
        "        if word in vocabulary:\n",
        "            result.append(vocabulary[word])\n",
        "    padding = [0]*(maxlen-len(result))\n",
        "    return padding + result[-maxlen:]"
      ],
      "execution_count": null,
      "outputs": []
    },
    {
      "cell_type": "markdown",
      "metadata": {
        "id": "4_zYF7k3o8bS",
        "colab_type": "text"
      },
      "source": [
        "Преобразованные входные данные:"
      ]
    },
    {
      "cell_type": "code",
      "metadata": {
        "colab_type": "code",
        "id": "qM5s2cp_9cmc",
        "colab": {}
      },
      "source": [
        "X_train_sequenced = np.asarray([text_to_sequence(text, max_len) for text in X_train], dtype=np.int32)\n",
        "X_test_sequenced = np.asarray([text_to_sequence(text, max_len) for text in X_test], dtype=np.int32)"
      ],
      "execution_count": null,
      "outputs": []
    },
    {
      "cell_type": "code",
      "metadata": {
        "colab_type": "code",
        "id": "u8BF7Q_49cmi",
        "colab": {
          "base_uri": "https://localhost:8080/",
          "height": 34
        },
        "outputId": "bb9f64dd-7235-4ab2-926a-196cacf33c52"
      },
      "source": [
        "X_train_sequenced.shape"
      ],
      "execution_count": null,
      "outputs": [
        {
          "output_type": "execute_result",
          "data": {
            "text/plain": [
              "(14811, 40)"
            ]
          },
          "metadata": {
            "tags": []
          },
          "execution_count": 24
        }
      ]
    },
    {
      "cell_type": "code",
      "metadata": {
        "colab_type": "code",
        "id": "iP2nRMa49cmn",
        "colab": {
          "base_uri": "https://localhost:8080/",
          "height": 68
        },
        "outputId": "38ab38db-31cc-40eb-ef15-d0e03e27411f"
      },
      "source": [
        "X_train_sequenced[1]"
      ],
      "execution_count": null,
      "outputs": [
        {
          "output_type": "execute_result",
          "data": {
            "text/plain": [
              "array([ 0,  0,  0,  0,  0,  0,  0,  0,  0,  0,  0,  0,  0,  0,  0,  0,  0,\n",
              "        0,  0,  0,  0,  0,  0,  0,  0,  0,  0,  0,  0,  0,  0,  0,  0,  0,\n",
              "        0,  0,  0, 13,  8, 11], dtype=int32)"
            ]
          },
          "metadata": {
            "tags": []
          },
          "execution_count": 25
        }
      ]
    },
    {
      "cell_type": "markdown",
      "metadata": {
        "id": "QQQzG-m1o8bW",
        "colab_type": "text"
      },
      "source": [
        "## 2. Обучение CNN"
      ]
    },
    {
      "cell_type": "code",
      "metadata": {
        "colab_type": "code",
        "id": "OLbfBbJ29cms",
        "colab": {}
      },
      "source": [
        "import keras\n",
        "from keras.models import Sequential, Model\n",
        "from keras.layers import Dense, Dropout, Activation, Embedding, Conv1D, GlobalMaxPool1D"
      ],
      "execution_count": null,
      "outputs": []
    },
    {
      "cell_type": "markdown",
      "metadata": {
        "id": "5GmrST5ho8bY",
        "colab_type": "text"
      },
      "source": [
        "Сеть из вебинара (как приемлемый вариант - иные параметры давали примерно те же результаты):"
      ]
    },
    {
      "cell_type": "code",
      "metadata": {
        "colab_type": "code",
        "id": "mEZdwVWW-fg7",
        "colab": {}
      },
      "source": [
        "model = Sequential()\n",
        "model.add(Embedding(input_dim=max_words, output_dim=emb_len, input_length=max_len))\n",
        "model.add(Conv1D(emb_len, 3))\n",
        "model.add(Activation(\"relu\"))\n",
        "model.add(GlobalMaxPool1D())\n",
        "model.add(Dense(10))\n",
        "model.add(Activation(\"relu\"))\n",
        "model.add(Dropout(0.5))\n",
        "model.add(Dense(1))\n",
        "model.add(Activation('sigmoid'))\n",
        "\n",
        "model.compile(loss='binary_crossentropy',\n",
        "              optimizer='adam',\n",
        "              metrics=['acc'])"
      ],
      "execution_count": null,
      "outputs": []
    },
    {
      "cell_type": "markdown",
      "metadata": {
        "id": "zmZso6fyo8ba",
        "colab_type": "text"
      },
      "source": [
        "Обучение сети:"
      ]
    },
    {
      "cell_type": "code",
      "metadata": {
        "colab_type": "code",
        "id": "K7bTMX1T-w_e",
        "colab": {
          "base_uri": "https://localhost:8080/",
          "height": 377
        },
        "outputId": "531be8c7-f297-4578-a16d-e7cd317c7c93"
      },
      "source": [
        "history1 = model.fit(X_train_sequenced, y_train,\n",
        "                     batch_size=10,\n",
        "                     epochs=10,\n",
        "                     verbose=1,\n",
        "                     validation_split=0.25)"
      ],
      "execution_count": null,
      "outputs": [
        {
          "output_type": "stream",
          "text": [
            "Epoch 1/10\n",
            "1111/1111 [==============================] - 13s 12ms/step - loss: 0.2280 - acc: 0.8967 - val_loss: 0.1782 - val_acc: 0.9252\n",
            "Epoch 2/10\n",
            "1111/1111 [==============================] - 13s 12ms/step - loss: 0.1493 - acc: 0.9308 - val_loss: 0.1855 - val_acc: 0.9238\n",
            "Epoch 3/10\n",
            "1111/1111 [==============================] - 13s 12ms/step - loss: 0.1155 - acc: 0.9555 - val_loss: 0.1911 - val_acc: 0.9220\n",
            "Epoch 4/10\n",
            "1111/1111 [==============================] - 13s 12ms/step - loss: 0.0933 - acc: 0.9641 - val_loss: 0.2585 - val_acc: 0.9247\n",
            "Epoch 5/10\n",
            "1111/1111 [==============================] - 13s 12ms/step - loss: 0.0681 - acc: 0.9779 - val_loss: 0.2479 - val_acc: 0.9198\n",
            "Epoch 6/10\n",
            "1111/1111 [==============================] - 13s 12ms/step - loss: 0.0550 - acc: 0.9813 - val_loss: 0.3345 - val_acc: 0.9141\n",
            "Epoch 7/10\n",
            "1111/1111 [==============================] - 13s 12ms/step - loss: 0.0430 - acc: 0.9865 - val_loss: 0.4218 - val_acc: 0.9141\n",
            "Epoch 8/10\n",
            "1111/1111 [==============================] - 13s 12ms/step - loss: 0.0385 - acc: 0.9866 - val_loss: 0.4718 - val_acc: 0.9098\n",
            "Epoch 9/10\n",
            "1111/1111 [==============================] - 13s 12ms/step - loss: 0.0397 - acc: 0.9864 - val_loss: 0.4716 - val_acc: 0.9147\n",
            "Epoch 10/10\n",
            "1111/1111 [==============================] - 13s 12ms/step - loss: 0.0331 - acc: 0.9884 - val_loss: 0.4984 - val_acc: 0.9101\n"
          ],
          "name": "stdout"
        }
      ]
    },
    {
      "cell_type": "markdown",
      "metadata": {
        "id": "fpCR6Geho8bc",
        "colab_type": "text"
      },
      "source": [
        "Проверка сети на тестовой выборке:"
      ]
    },
    {
      "cell_type": "code",
      "metadata": {
        "colab_type": "code",
        "id": "bvJ08a8T_oQu",
        "colab": {
          "base_uri": "https://localhost:8080/",
          "height": 34
        },
        "outputId": "11eb7d3c-08f1-488a-e874-7e012da282de"
      },
      "source": [
        "loss, acc = model.evaluate(X_test_sequenced, y_test, batch_size=10, verbose=1)"
      ],
      "execution_count": null,
      "outputs": [
        {
          "output_type": "stream",
          "text": [
            "494/494 [==============================] - 1s 2ms/step - loss: 0.4921 - acc: 0.9143\n"
          ],
          "name": "stdout"
        }
      ]
    },
    {
      "cell_type": "markdown",
      "metadata": {
        "id": "6ZVnKCxSo8be",
        "colab_type": "text"
      },
      "source": [
        "На разных запусках доля правильных ответов была в диапазоне от 0.91 до 0.92."
      ]
    },
    {
      "cell_type": "markdown",
      "metadata": {
        "id": "AMSBUlzxo8be",
        "colab_type": "text"
      },
      "source": [
        "## 3. Получение эмбеддингов Word2Vec"
      ]
    },
    {
      "cell_type": "code",
      "metadata": {
        "colab_type": "code",
        "id": "BtTKyc3Y01rX",
        "colab": {}
      },
      "source": [
        "from gensim.models import Word2Vec"
      ],
      "execution_count": null,
      "outputs": []
    },
    {
      "cell_type": "markdown",
      "metadata": {
        "id": "Kkt9QTJJo8bg",
        "colab_type": "text"
      },
      "source": [
        "Обучение модели Word2Vec:"
      ]
    },
    {
      "cell_type": "code",
      "metadata": {
        "colab_type": "code",
        "id": "KdLNrI6o08vM",
        "colab": {}
      },
      "source": [
        "X_train_tokenized = X_train.apply(word_tokenize)"
      ],
      "execution_count": null,
      "outputs": []
    },
    {
      "cell_type": "code",
      "metadata": {
        "colab_type": "code",
        "id": "WseotSaB084L",
        "colab": {}
      },
      "source": [
        "sentences = X_train_tokenized.tolist()\n",
        "params = {'size': emb_len, 'window': 5, 'min_count': 2, 'sg': 1, 'hs': 0, 'negative': 10, 'workers': 32, 'seed': 34}"
      ],
      "execution_count": null,
      "outputs": []
    },
    {
      "cell_type": "code",
      "metadata": {
        "colab_type": "code",
        "id": "a2HwrnES09Cl",
        "colab": {
          "base_uri": "https://localhost:8080/",
          "height": 51
        },
        "outputId": "83abda0b-5a1d-47e3-c5d6-3183533c5d79"
      },
      "source": [
        "%%time\n",
        "model_w2v = Word2Vec(**params)\n",
        "model_w2v.build_vocab(sentences)\n",
        "model_w2v.train(sentences,\n",
        "                total_examples=len(sentences),\n",
        "                epochs=20)"
      ],
      "execution_count": null,
      "outputs": [
        {
          "output_type": "stream",
          "text": [
            "CPU times: user 20 s, sys: 134 ms, total: 20.2 s\n",
            "Wall time: 10.9 s\n"
          ],
          "name": "stdout"
        }
      ]
    },
    {
      "cell_type": "markdown",
      "metadata": {
        "id": "GDuvYRP6o8bl",
        "colab_type": "text"
      },
      "source": [
        "Массив эмбеддингов:\n",
        " - для каждого слова из словаря, начиная с 1-го по порядку, получаем эмбеддинг из модели;\n",
        " - если слова нет (а также 0-му порядку), задаём нулевой вектор длины эмбеддинга."
      ]
    },
    {
      "cell_type": "code",
      "metadata": {
        "colab_type": "code",
        "id": "iTsJWQd_08_3",
        "colab": {}
      },
      "source": [
        "emb_zero = np.zeros((1, emb_len))\n",
        "embs = [emb_zero]\n",
        "for word in vocabulary:\n",
        "    if word in model_w2v:\n",
        "        emb = model_w2v[word].reshape((1, emb_len))\n",
        "    else:\n",
        "        emb = emb_zero\n",
        "    embs.append(emb)\n",
        "embs = np.concatenate(embs).astype(np.float32)"
      ],
      "execution_count": null,
      "outputs": []
    },
    {
      "cell_type": "markdown",
      "metadata": {
        "id": "AlYEhXgto8bm",
        "colab_type": "text"
      },
      "source": [
        "## 4. Обучение CNN с инициализацией эмбеддингами Word2Vec"
      ]
    },
    {
      "cell_type": "markdown",
      "metadata": {
        "id": "mbNDz5fQo8bn",
        "colab_type": "text"
      },
      "source": [
        "Передаём эмбеддинги в объект-инициализатор:"
      ]
    },
    {
      "cell_type": "code",
      "metadata": {
        "colab_type": "code",
        "id": "Vj4RVTlm8y1h",
        "colab": {}
      },
      "source": [
        "embeddings_initializer = keras.initializers.Constant(embs)"
      ],
      "execution_count": null,
      "outputs": []
    },
    {
      "cell_type": "markdown",
      "metadata": {
        "id": "vfcobbI9o8bo",
        "colab_type": "text"
      },
      "source": [
        "Передаём объект в сеть той же архитектуры:"
      ]
    },
    {
      "cell_type": "code",
      "metadata": {
        "colab_type": "code",
        "id": "iLCqoi6IzllK",
        "colab": {}
      },
      "source": [
        "model = Sequential()\n",
        "model.add(Embedding(input_dim=max_words, output_dim=emb_len, input_length=max_len,\n",
        "                    embeddings_initializer=embeddings_initializer))\n",
        "model.add(Conv1D(emb_len, 3))\n",
        "model.add(Activation(\"relu\"))\n",
        "model.add(GlobalMaxPool1D())\n",
        "model.add(Dense(10))\n",
        "model.add(Activation(\"relu\"))\n",
        "model.add(Dropout(0.5))\n",
        "model.add(Dense(1))\n",
        "model.add(Activation('sigmoid'))\n",
        "\n",
        "model.compile(loss='binary_crossentropy',\n",
        "              optimizer='adam',\n",
        "              metrics=['acc'])"
      ],
      "execution_count": null,
      "outputs": []
    },
    {
      "cell_type": "markdown",
      "metadata": {
        "id": "eAWu_Xxvo8bq",
        "colab_type": "text"
      },
      "source": [
        "Обучение сети:"
      ]
    },
    {
      "cell_type": "code",
      "metadata": {
        "colab_type": "code",
        "id": "cp0gOsNK8AIB",
        "colab": {
          "base_uri": "https://localhost:8080/",
          "height": 377
        },
        "outputId": "c4f89e2c-cf21-4bbc-cd13-69ac00b1b5e1"
      },
      "source": [
        "history2 = model.fit(X_train_sequenced, y_train,\n",
        "                     batch_size=10,\n",
        "                     epochs=10,\n",
        "                     verbose=1,\n",
        "                     validation_split=0.25)"
      ],
      "execution_count": null,
      "outputs": [
        {
          "output_type": "stream",
          "text": [
            "Epoch 1/10\n",
            "1111/1111 [==============================] - 13s 12ms/step - loss: 0.2712 - acc: 0.8875 - val_loss: 0.1694 - val_acc: 0.9241\n",
            "Epoch 2/10\n",
            "1111/1111 [==============================] - 13s 12ms/step - loss: 0.2112 - acc: 0.9118 - val_loss: 0.1609 - val_acc: 0.9311\n",
            "Epoch 3/10\n",
            "1111/1111 [==============================] - 13s 12ms/step - loss: 0.1846 - acc: 0.9257 - val_loss: 0.1656 - val_acc: 0.9295\n",
            "Epoch 4/10\n",
            "1111/1111 [==============================] - 13s 12ms/step - loss: 0.1522 - acc: 0.9436 - val_loss: 0.1784 - val_acc: 0.9238\n",
            "Epoch 5/10\n",
            "1111/1111 [==============================] - 13s 12ms/step - loss: 0.1279 - acc: 0.9558 - val_loss: 0.2006 - val_acc: 0.9292\n",
            "Epoch 6/10\n",
            "1111/1111 [==============================] - 13s 12ms/step - loss: 0.1108 - acc: 0.9630 - val_loss: 0.2014 - val_acc: 0.9211\n",
            "Epoch 7/10\n",
            "1111/1111 [==============================] - 13s 12ms/step - loss: 0.0913 - acc: 0.9690 - val_loss: 0.2571 - val_acc: 0.9228\n",
            "Epoch 8/10\n",
            "1111/1111 [==============================] - 13s 12ms/step - loss: 0.0856 - acc: 0.9709 - val_loss: 0.2804 - val_acc: 0.9233\n",
            "Epoch 9/10\n",
            "1111/1111 [==============================] - 13s 11ms/step - loss: 0.0753 - acc: 0.9734 - val_loss: 0.3357 - val_acc: 0.9265\n",
            "Epoch 10/10\n",
            "1111/1111 [==============================] - 13s 12ms/step - loss: 0.0707 - acc: 0.9707 - val_loss: 0.3193 - val_acc: 0.9244\n"
          ],
          "name": "stdout"
        }
      ]
    },
    {
      "cell_type": "markdown",
      "metadata": {
        "id": "2SS-ZHGgo8bs",
        "colab_type": "text"
      },
      "source": [
        "Проверка сети на тестовой выборке:"
      ]
    },
    {
      "cell_type": "code",
      "metadata": {
        "colab_type": "code",
        "id": "eN1CaKTSyd-y",
        "colab": {
          "base_uri": "https://localhost:8080/",
          "height": 34
        },
        "outputId": "06bbfec2-26a9-4ecf-da6e-76aade108c74"
      },
      "source": [
        "loss, acc = model.evaluate(X_test_sequenced, y_test, batch_size=10, verbose=1)"
      ],
      "execution_count": null,
      "outputs": [
        {
          "output_type": "stream",
          "text": [
            "494/494 [==============================] - 1s 2ms/step - loss: 0.3740 - acc: 0.9174\n"
          ],
          "name": "stdout"
        }
      ]
    },
    {
      "cell_type": "markdown",
      "metadata": {
        "id": "0uCbPPYfo8bx",
        "colab_type": "text"
      },
      "source": [
        "На разных запусках доля правильных ответов была в диапазоне от 0.91 до 0.93."
      ]
    },
    {
      "cell_type": "markdown",
      "metadata": {
        "id": "dLUE4zfwo8bx",
        "colab_type": "text"
      },
      "source": [
        "Построим графики долей правильных ответов на валидации в процессе обучения сетей с инициализацией эмбеддингов способом по умолчанию и эмбеддингами Word2Vec:"
      ]
    },
    {
      "cell_type": "code",
      "metadata": {
        "colab_type": "code",
        "id": "4Q6uxf1TBnVk",
        "colab": {
          "base_uri": "https://localhost:8080/",
          "height": 281
        },
        "outputId": "e67ec723-b7ae-4640-9b5d-707290d67200"
      },
      "source": [
        "plt.plot(history1.history['val_acc'], label='Default Embeddings', c='darkred')\n",
        "plt.plot(history2.history['val_acc'], label='Word2Vec Embeddings', c='darkgreen')\n",
        "plt.title('Valid Accuracy in Learning History')\n",
        "plt.legend(loc='best')\n",
        "plt.grid(True)\n",
        "plt.show()"
      ],
      "execution_count": null,
      "outputs": [
        {
          "output_type": "display_data",
          "data": {
            "image/png": "[encoded data removed]",
            "text/plain": [
              "<Figure size 432x288 with 1 Axes>"
            ]
          },
          "metadata": {
            "tags": [],
            "needs_background": "light"
          }
        }
      ]
    },
    {
      "cell_type": "markdown",
      "metadata": {
        "id": "Ft33xy2Bo8bz",
        "colab_type": "text"
      },
      "source": [
        "**Выводы:**\n",
        " - при инициализации слоя эмбеддингов эмбеддингами Word2Vec свёрточная сеть даёт качество классификации несколько выше и переобучается на эпохах медленнее;\n",
        " - логистическая регрессия и градиентный бустинг на признаках, отобранных логистической регрессией, показали более высокую долю правильных ответов (0.93 и 0.92 соответственно);\n",
        " - для улучшения результатов следует проверить другие архитектуры сетей (а также - вообще другой тип сети)."
      ]
    }
  ]
}